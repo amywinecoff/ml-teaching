{
  "cells": [
    {
      "cell_type": "markdown",
      "metadata": {
        "id": "view-in-github",
        "colab_type": "text"
      },
      "source": [
        "<a href=\"https://colab.research.google.com/github/amywinecoff/ml-teaching/blob/main/cdh/presentation/knn_demo.ipynb\" target=\"_parent\"><img src=\"https://colab.research.google.com/assets/colab-badge.svg\" alt=\"Open In Colab\"/></a>"
      ]
    },
    {
      "cell_type": "code",
      "execution_count": 1,
      "metadata": {
        "id": "8BGCWZJNyZKd"
      },
      "outputs": [],
      "source": [
        "import matplotlib.pyplot as plt\n",
        "import seaborn as sns\n",
        "import pandas as pd\n",
        "from sklearn.neighbors import KNeighborsClassifier"
      ]
    },
    {
      "cell_type": "code",
      "execution_count": 2,
      "metadata": {
        "id": "4Ycyu90EyZKe"
      },
      "outputs": [],
      "source": [
        "def plot_supervised(df, uk_smokiness, uk_color, save=False):\n",
        "    \n",
        "    #plot params\n",
        "    plt.style.use('ggplot')\n",
        "    plt.rc('font', size=20)\n",
        "    plt.rcParams[\"figure.autolayout\"] = True\n",
        "    \n",
        "    #make a prediction for the uknown spirit type using knn\n",
        "    neigh = KNeighborsClassifier(n_neighbors=3)\n",
        "    neigh.fit(df[['smokiness', 'color']], df['type'])\n",
        "    uk_type = neigh.predict([[uk_smokiness,uk_color]])[0]\n",
        "    print(f'Unknown spirit type is: {uk_type}')\n",
        "    \n",
        "    unknown_spirit = {'spirit':'Unknown Spirit','smokiness':uk_smokiness, 'color':uk_color, 'type':uk_type}\n",
        "    unknown_spirit_df = pd.DataFrame([unknown_spirit])               \n",
        "    df = pd.concat([df, unknown_spirit_df], ignore_index=True)\n",
        "    \n",
        "    fig, ax = plt.subplots()\n",
        "    fig.set_size_inches(15, 15)\n",
        "    sns.scatterplot(y=df['smokiness'], x=df['color'], s=170, style=df['type'])\n",
        "    plt.xlim([0, 7])\n",
        "    plt.ylim([0,7.5])\n",
        "    \n",
        "    for i in range(df.shape[0]):\n",
        "        plt.text(x=df['color'][i]+.1,\n",
        "                 y=df['smokiness'][i]+.1, \n",
        "                 s=df['spirit'][i], \n",
        "                 fontdict=dict(color='blue',size=16),\n",
        "                 bbox=dict(facecolor='yellow',alpha=0.5))\n",
        "    \n",
        "    #annoying hack to fix legend marker size\n",
        "    lgnd = plt.legend(loc=\"lower left\", numpoints=1, fontsize=16)\n",
        "\n",
        "    for handle in lgnd.legendHandles:\n",
        "        handle.set_sizes([200])\n",
        "        handle.set_color('r')\n"
      ]
    },
    {
      "cell_type": "code",
      "execution_count": 3,
      "metadata": {
        "colab": {
          "base_uri": "https://localhost:8080/",
          "height": 238
        },
        "id": "jxjDQjQ1yZKg",
        "outputId": "45050638-9757-49ee-d1f9-cfe6e090b834"
      },
      "outputs": [
        {
          "output_type": "execute_result",
          "data": {
            "text/plain": [
              "               spirit  smokiness  color     type\n",
              "0     El Buho Espadin        3.0    0.5   Mezcal\n",
              "1  Casamigos Reposado        1.0    1.0   Mezcal\n",
              "2       Espolon Anejo        1.5    2.0   Mezcal\n",
              "3        Laphroaig 12        7.0    4.0  Whiskey\n",
              "4         Macallan 12        5.0    4.0  Whiskey\n",
              "5  Knob Creek Bourbon        4.0    5.0  Whiskey"
            ],
            "text/html": [
              "\n",
              "  <div id=\"df-b4b8382e-849f-4bfe-bbc8-ed319e41206a\">\n",
              "    <div class=\"colab-df-container\">\n",
              "      <div>\n",
              "<style scoped>\n",
              "    .dataframe tbody tr th:only-of-type {\n",
              "        vertical-align: middle;\n",
              "    }\n",
              "\n",
              "    .dataframe tbody tr th {\n",
              "        vertical-align: top;\n",
              "    }\n",
              "\n",
              "    .dataframe thead th {\n",
              "        text-align: right;\n",
              "    }\n",
              "</style>\n",
              "<table border=\"1\" class=\"dataframe\">\n",
              "  <thead>\n",
              "    <tr style=\"text-align: right;\">\n",
              "      <th></th>\n",
              "      <th>spirit</th>\n",
              "      <th>smokiness</th>\n",
              "      <th>color</th>\n",
              "      <th>type</th>\n",
              "    </tr>\n",
              "  </thead>\n",
              "  <tbody>\n",
              "    <tr>\n",
              "      <th>0</th>\n",
              "      <td>El Buho Espadin</td>\n",
              "      <td>3.0</td>\n",
              "      <td>0.5</td>\n",
              "      <td>Mezcal</td>\n",
              "    </tr>\n",
              "    <tr>\n",
              "      <th>1</th>\n",
              "      <td>Casamigos Reposado</td>\n",
              "      <td>1.0</td>\n",
              "      <td>1.0</td>\n",
              "      <td>Mezcal</td>\n",
              "    </tr>\n",
              "    <tr>\n",
              "      <th>2</th>\n",
              "      <td>Espolon Anejo</td>\n",
              "      <td>1.5</td>\n",
              "      <td>2.0</td>\n",
              "      <td>Mezcal</td>\n",
              "    </tr>\n",
              "    <tr>\n",
              "      <th>3</th>\n",
              "      <td>Laphroaig 12</td>\n",
              "      <td>7.0</td>\n",
              "      <td>4.0</td>\n",
              "      <td>Whiskey</td>\n",
              "    </tr>\n",
              "    <tr>\n",
              "      <th>4</th>\n",
              "      <td>Macallan 12</td>\n",
              "      <td>5.0</td>\n",
              "      <td>4.0</td>\n",
              "      <td>Whiskey</td>\n",
              "    </tr>\n",
              "    <tr>\n",
              "      <th>5</th>\n",
              "      <td>Knob Creek Bourbon</td>\n",
              "      <td>4.0</td>\n",
              "      <td>5.0</td>\n",
              "      <td>Whiskey</td>\n",
              "    </tr>\n",
              "  </tbody>\n",
              "</table>\n",
              "</div>\n",
              "      <button class=\"colab-df-convert\" onclick=\"convertToInteractive('df-b4b8382e-849f-4bfe-bbc8-ed319e41206a')\"\n",
              "              title=\"Convert this dataframe to an interactive table.\"\n",
              "              style=\"display:none;\">\n",
              "        \n",
              "  <svg xmlns=\"http://www.w3.org/2000/svg\" height=\"24px\"viewBox=\"0 0 24 24\"\n",
              "       width=\"24px\">\n",
              "    <path d=\"M0 0h24v24H0V0z\" fill=\"none\"/>\n",
              "    <path d=\"M18.56 5.44l.94 2.06.94-2.06 2.06-.94-2.06-.94-.94-2.06-.94 2.06-2.06.94zm-11 1L8.5 8.5l.94-2.06 2.06-.94-2.06-.94L8.5 2.5l-.94 2.06-2.06.94zm10 10l.94 2.06.94-2.06 2.06-.94-2.06-.94-.94-2.06-.94 2.06-2.06.94z\"/><path d=\"M17.41 7.96l-1.37-1.37c-.4-.4-.92-.59-1.43-.59-.52 0-1.04.2-1.43.59L10.3 9.45l-7.72 7.72c-.78.78-.78 2.05 0 2.83L4 21.41c.39.39.9.59 1.41.59.51 0 1.02-.2 1.41-.59l7.78-7.78 2.81-2.81c.8-.78.8-2.07 0-2.86zM5.41 20L4 18.59l7.72-7.72 1.47 1.35L5.41 20z\"/>\n",
              "  </svg>\n",
              "      </button>\n",
              "      \n",
              "  <style>\n",
              "    .colab-df-container {\n",
              "      display:flex;\n",
              "      flex-wrap:wrap;\n",
              "      gap: 12px;\n",
              "    }\n",
              "\n",
              "    .colab-df-convert {\n",
              "      background-color: #E8F0FE;\n",
              "      border: none;\n",
              "      border-radius: 50%;\n",
              "      cursor: pointer;\n",
              "      display: none;\n",
              "      fill: #1967D2;\n",
              "      height: 32px;\n",
              "      padding: 0 0 0 0;\n",
              "      width: 32px;\n",
              "    }\n",
              "\n",
              "    .colab-df-convert:hover {\n",
              "      background-color: #E2EBFA;\n",
              "      box-shadow: 0px 1px 2px rgba(60, 64, 67, 0.3), 0px 1px 3px 1px rgba(60, 64, 67, 0.15);\n",
              "      fill: #174EA6;\n",
              "    }\n",
              "\n",
              "    [theme=dark] .colab-df-convert {\n",
              "      background-color: #3B4455;\n",
              "      fill: #D2E3FC;\n",
              "    }\n",
              "\n",
              "    [theme=dark] .colab-df-convert:hover {\n",
              "      background-color: #434B5C;\n",
              "      box-shadow: 0px 1px 3px 1px rgba(0, 0, 0, 0.15);\n",
              "      filter: drop-shadow(0px 1px 2px rgba(0, 0, 0, 0.3));\n",
              "      fill: #FFFFFF;\n",
              "    }\n",
              "  </style>\n",
              "\n",
              "      <script>\n",
              "        const buttonEl =\n",
              "          document.querySelector('#df-b4b8382e-849f-4bfe-bbc8-ed319e41206a button.colab-df-convert');\n",
              "        buttonEl.style.display =\n",
              "          google.colab.kernel.accessAllowed ? 'block' : 'none';\n",
              "\n",
              "        async function convertToInteractive(key) {\n",
              "          const element = document.querySelector('#df-b4b8382e-849f-4bfe-bbc8-ed319e41206a');\n",
              "          const dataTable =\n",
              "            await google.colab.kernel.invokeFunction('convertToInteractive',\n",
              "                                                     [key], {});\n",
              "          if (!dataTable) return;\n",
              "\n",
              "          const docLinkHtml = 'Like what you see? Visit the ' +\n",
              "            '<a target=\"_blank\" href=https://colab.research.google.com/notebooks/data_table.ipynb>data table notebook</a>'\n",
              "            + ' to learn more about interactive tables.';\n",
              "          element.innerHTML = '';\n",
              "          dataTable['output_type'] = 'display_data';\n",
              "          await google.colab.output.renderOutput(dataTable, element);\n",
              "          const docLink = document.createElement('div');\n",
              "          docLink.innerHTML = docLinkHtml;\n",
              "          element.appendChild(docLink);\n",
              "        }\n",
              "      </script>\n",
              "    </div>\n",
              "  </div>\n",
              "  "
            ]
          },
          "metadata": {},
          "execution_count": 3
        }
      ],
      "source": [
        "spirits = [['El Buho Espadin', 3, 0.5, 'Mezcal'],\n",
        "            ['Casamigos Reposado', 1, 1, 'Mezcal'],\n",
        "            ['Espolon Anejo',1.5, 2, 'Mezcal'], \n",
        "            ['Laphroaig 12', 7, 4, 'Whiskey'],\n",
        "            ['Macallan 12', 5, 4, 'Whiskey'],\n",
        "            ['Knob Creek Bourbon', 4, 5, 'Whiskey']]\n",
        "\n",
        "df = pd.DataFrame(spirits, columns=['spirit','smokiness', 'color', 'type' ])\n",
        "\n",
        "df.head(10)"
      ]
    },
    {
      "cell_type": "code",
      "execution_count": 4,
      "metadata": {
        "colab": {
          "base_uri": "https://localhost:8080/"
        },
        "id": "iPFPovwuyZKh",
        "outputId": "7b0d1cf9-29ea-47c0-ee3c-8d77e18cc924"
      },
      "outputs": [
        {
          "output_type": "stream",
          "name": "stdout",
          "text": [
            "Unknown spirit type is: Mezcal\n"
          ]
        }
      ],
      "source": [
        "uk_smokiness = 2\n",
        "uk_color = 3\n",
        "\n",
        "neigh = KNeighborsClassifier(n_neighbors=3)\n",
        "neigh.fit(df[['smokiness', 'color']].values, df['type'])\n",
        "uk_type = neigh.predict([[uk_smokiness,uk_color]])[0]\n",
        "print(f'Unknown spirit type is: {uk_type}')"
      ]
    },
    {
      "cell_type": "code",
      "execution_count": 5,
      "metadata": {
        "colab": {
          "base_uri": "https://localhost:8080/",
          "height": 1000
        },
        "id": "sltrjMrCyZKi",
        "outputId": "d20600bb-08fb-4e0b-906d-d37d0b5e6fcb"
      },
      "outputs": [
        {
          "output_type": "stream",
          "name": "stdout",
          "text": [
            "Unknown spirit type is: Mezcal\n"
          ]
        },
        {
          "output_type": "stream",
          "name": "stderr",
          "text": [
            "/usr/local/lib/python3.8/dist-packages/sklearn/base.py:450: UserWarning: X does not have valid feature names, but KNeighborsClassifier was fitted with feature names\n",
            "  warnings.warn(\n"
          ]
        },
        {
          "output_type": "display_data",
          "data": {
            "text/plain": [
              "<Figure size 1080x1080 with 1 Axes>"
            ],
            "image/png": "[encoded data removed]"
          },
          "metadata": {}
        }
      ],
      "source": [
        "plot_supervised(df, uk_smokiness, uk_color)"
      ]
    },
    {
      "cell_type": "code",
      "execution_count": 5,
      "metadata": {
        "id": "-agrZZ0RyZKi"
      },
      "outputs": [],
      "source": []
    }
  ],
  "metadata": {
    "kernelspec": {
      "display_name": "Python 3",
      "language": "python",
      "name": "python3"
    },
    "language_info": {
      "codemirror_mode": {
        "name": "ipython",
        "version": 3
      },
      "file_extension": ".py",
      "mimetype": "text/x-python",
      "name": "python",
      "nbconvert_exporter": "python",
      "pygments_lexer": "ipython3",
      "version": "3.8.5"
    },
    "colab": {
      "provenance": [],
      "include_colab_link": true
    }
  },
  "nbformat": 4,
  "nbformat_minor": 0
}