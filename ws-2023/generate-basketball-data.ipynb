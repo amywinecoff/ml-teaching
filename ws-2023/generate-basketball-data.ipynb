{
 "cells": [
  {
   "cell_type": "code",
   "execution_count": null,
   "metadata": {},
   "outputs": [],
   "source": [
    "#adapted from https://towardsdatascience.com/simple-modeling-of-nba-positions-using-the-k-nearest-neighbors-machine-learning-algorithm-223b8addb08f\n",
    "#basketball glossary https://www.basketball-reference.com/about/glossary.html"
   ]
  },
  {
   "cell_type": "code",
   "execution_count": null,
   "metadata": {},
   "outputs": [],
   "source": [
    "#If running for the first time\n",
    "#%pip install basketball_reference_scraper"
   ]
  },
  {
   "cell_type": "code",
   "execution_count": 1,
   "metadata": {},
   "outputs": [],
   "source": [
    "from basketball_reference_scraper.players import get_stats \n",
    "from basketball_reference_scraper.teams import get_roster\n",
    "import pandas as pd\n",
    "import numpy as np\n",
    "from fake_useragent import UserAgent"
   ]
  },
  {
   "cell_type": "code",
   "execution_count": 8,
   "metadata": {},
   "outputs": [],
   "source": [
    "# team_roster = get_roster(team='GSW', season_end_year=1950)\n",
    "# team_roster"
   ]
  },
  {
   "cell_type": "code",
   "execution_count": null,
   "metadata": {},
   "outputs": [],
   "source": [
    "ua = UserAgent()\n",
    "userAgent = ua.random"
   ]
  },
  {
   "cell_type": "code",
   "execution_count": 6,
   "metadata": {},
   "outputs": [],
   "source": [
    "get_roster(team='GSW', season_end_year=2020)"
   ]
  },
  {
   "cell_type": "code",
   "execution_count": 2,
   "metadata": {},
   "outputs": [
    {
     "name": "stdout",
     "output_type": "stream",
     "text": [
      "CHA\n",
      "'NoneType' object is not subscriptable\n",
      "DET\n",
      "'NoneType' object is not subscriptable\n",
      "GSW\n",
      "'NoneType' object is not subscriptable\n",
      "HOU\n",
      "'NoneType' object is not subscriptable\n",
      "IND\n",
      "'NoneType' object is not subscriptable\n",
      "LAC\n",
      "'NoneType' object is not subscriptable\n",
      "LAL\n",
      "'NoneType' object is not subscriptable\n",
      "MEM\n",
      "'NoneType' object is not subscriptable\n",
      "MIL\n",
      "'NoneType' object is not subscriptable\n",
      "MIN\n",
      "'NoneType' object is not subscriptable\n",
      "NOH\n",
      "'NoneType' object is not subscriptable\n",
      "NYK\n",
      "'NoneType' object is not subscriptable\n",
      "BKN\n",
      "'NoneType' object is not subscriptable\n",
      "OKC\n",
      "'NoneType' object is not subscriptable\n",
      "ORL\n",
      "'NoneType' object is not subscriptable\n",
      "PHI\n",
      "'NoneType' object is not subscriptable\n",
      "PHO\n",
      "'NoneType' object is not subscriptable\n",
      "POR\n",
      "'NoneType' object is not subscriptable\n",
      "SAC\n",
      "'NoneType' object is not subscriptable\n",
      "SAS\n",
      "'NoneType' object is not subscriptable\n",
      "TOR\n",
      "'NoneType' object is not subscriptable\n",
      "UTH\n",
      "'NoneType' object is not subscriptable\n",
      "WAS\n",
      "'NoneType' object is not subscriptable\n"
     ]
    }
   ],
   "source": [
    "nba_teams = ['ATL','BOS','CHA','CHI','CLE','DAL','DEN','DET','GSW','HOU','IND','LAC',\n",
    "'LAL','MEM','MIA','MIL','MIN','NOH','NYK','BKN','OKC','ORL','PHI','PHO','POR','SAC',\n",
    "'SAS','TOR','UTH','WAS']\n",
    "\n",
    "players_positions = []\n",
    "for team in nba_teams:\n",
    "    \n",
    "    try:\n",
    "        team_roster = get_roster(team=team, season_end_year=2021)\n",
    "        roster_subset = team_roster[['PLAYER', 'POS']].values.tolist()\n",
    "        players_positions.append(roster_subset)\n",
    "        \n",
    "    except Exception as e:\n",
    "        print(team)\n",
    "        print(e)"
   ]
  },
  {
   "cell_type": "code",
   "execution_count": 3,
   "metadata": {},
   "outputs": [
    {
     "data": {
      "text/plain": [
       "[[['Bogdan Bogdanović', 'SG'],\n",
       "  ['Clint Capela', 'C'],\n",
       "  ['John Collins', 'PF'],\n",
       "  ['Kris Dunn', 'PG'],\n",
       "  ['Bruno Fernando', 'C'],\n",
       "  ['Danilo Gallinari', 'PF'],\n",
       "  ['Brandon Goodwin', 'PG'],\n",
       "  ['Solomon Hill', 'PF'],\n",
       "  ['Kevin Huerter', 'SG'],\n",
       "  [\"De'Andre Hunter\", 'SF'],\n",
       "  ['Nathan Knight', 'PF'],\n",
       "  ['Skylar Mays', 'SG'],\n",
       "  ['Onyeka Okongwu', 'C'],\n",
       "  ['Cam Reddish', 'SF'],\n",
       "  ['Rajon Rondo', 'PG'],\n",
       "  ['Tony Snell', 'SG'],\n",
       "  ['Lou Williams', 'PG'],\n",
       "  ['Trae Young', 'PG']],\n",
       " [['Jaylen Brown', 'SG'],\n",
       "  ['Carsen Edwards', 'SG'],\n",
       "  ['Tacko Fall', 'C'],\n",
       "  ['Evan Fournier', 'SG'],\n",
       "  ['Javonte Green', 'SF'],\n",
       "  ['Luke Kornet', 'C'],\n",
       "  ['Romeo Langford', 'SG'],\n",
       "  ['Aaron Nesmith', 'SF'],\n",
       "  ['Semi Ojeleye', 'PF'],\n",
       "  ['Jabari Parker', 'PF'],\n",
       "  ['Payton Pritchard', 'SG'],\n",
       "  ['Marcus Smart', 'PG'],\n",
       "  ['Jayson Tatum', 'SF'],\n",
       "  ['Jeff Teague', 'PG'],\n",
       "  ['Daniel Theis', 'C'],\n",
       "  ['Tristan Thompson', 'PF'],\n",
       "  ['Moritz Wagner', 'C'],\n",
       "  ['Kemba Walker', 'PG'],\n",
       "  ['Tremont Waters', 'PG'],\n",
       "  ['Grant Williams', 'PF'],\n",
       "  ['Robert Williams', 'C']],\n",
       " [['Al-Farouq Aminu', 'PF'],\n",
       "  ['Ryan Arcidiacono', 'PG'],\n",
       "  ['Troy Brown Jr.', 'SF'],\n",
       "  ['Wendell Carter Jr.', 'C'],\n",
       "  ['Devon Dotson', 'PG'],\n",
       "  ['Cristiano Felício', 'C'],\n",
       "  ['Daniel Gafford', 'PF'],\n",
       "  ['Javonte Green', 'SG'],\n",
       "  ['Chandler Hutchison', 'SF'],\n",
       "  ['Luke Kornet', 'PF'],\n",
       "  ['Zach LaVine', 'SG'],\n",
       "  ['Lauri Markkanen', 'PF'],\n",
       "  ['Adam Mokoka', 'SG'],\n",
       "  ['Otto Porter Jr.', 'SF'],\n",
       "  ['Tomáš Satoranský', 'SG'],\n",
       "  ['Garrett Temple', 'SG'],\n",
       "  ['Daniel Theis', 'C'],\n",
       "  ['Denzel Valentine', 'SG'],\n",
       "  ['Nikola Vučević', 'C'],\n",
       "  ['Coby White', 'PG'],\n",
       "  ['Patrick Williams', 'PF'],\n",
       "  ['Thaddeus Young', 'PF']],\n",
       " [['Jarrett Allen', 'C'],\n",
       "  ['Marques Bolden', 'C'],\n",
       "  ['Quinn Cook', 'PG'],\n",
       "  ['Matthew Dellavedova', 'PG'],\n",
       "  ['Damyean Dotson', 'SG'],\n",
       "  ['Andre Drummond', 'C'],\n",
       "  ['Dante Exum', 'SG'],\n",
       "  ['Yogi Ferrell', 'PG'],\n",
       "  ['Darius Garland', 'PG'],\n",
       "  ['Isaiah Hartenstein', 'C'],\n",
       "  ['Mfiondu Kabengele', 'PF'],\n",
       "  ['Kevin Love', 'PF'],\n",
       "  ['Thon Maker', 'C'],\n",
       "  ['Jeremiah Martin', 'PG'],\n",
       "  ['JaVale McGee', 'C'],\n",
       "  ['Larry Nance Jr.', 'PF'],\n",
       "  ['Isaac Okoro', 'SG'],\n",
       "  ['Cedi Osman', 'SF'],\n",
       "  ['Taurean Prince', 'PF'],\n",
       "  ['Collin Sexton', 'SG'],\n",
       "  ['Lamar Stevens', 'PF'],\n",
       "  ['Brodric Thomas', 'SG'],\n",
       "  ['Anderson Varejão', 'C'],\n",
       "  ['Dean Wade', 'PF'],\n",
       "  ['Dylan Windler', 'SF']],\n",
       " [['Tyler Bey', 'SF'],\n",
       "  ['Jalen Brunson', 'PG'],\n",
       "  ['Trey Burke', 'PG'],\n",
       "  ['Willie Cauley-Stein', 'C'],\n",
       "  ['Luka Dončić', 'PG'],\n",
       "  ['Dorian Finney-Smith', 'PF'],\n",
       "  ['Josh Green', 'SG'],\n",
       "  ['Tim Hardaway Jr.', 'SG'],\n",
       "  ['Nate Hinton', 'SG'],\n",
       "  ['Wes Iwundu', 'SF'],\n",
       "  ['James Johnson', 'PF'],\n",
       "  ['Maxi Kleber', 'PF'],\n",
       "  ['Boban Marjanović', 'C'],\n",
       "  ['Nicolò Melli', 'PF'],\n",
       "  ['Kristaps Porziņģis', 'C'],\n",
       "  ['Dwight Powell', 'C'],\n",
       "  ['J.J. Redick', 'SG'],\n",
       "  ['Josh Richardson', 'SG'],\n",
       "  ['Tyrell Terry', 'PG']],\n",
       " [['Will Barton', 'SF'],\n",
       "  ['Bol Bol', 'PF'],\n",
       "  ['Facundo Campazzo', 'PG'],\n",
       "  ['Vlatko Čančar', 'PF'],\n",
       "  ['Gary Clark', 'SF'],\n",
       "  ['PJ Dozier', 'SG'],\n",
       "  ['Aaron Gordon', 'PF'],\n",
       "  ['JaMychal Green', 'PF'],\n",
       "  ['R.J. Hampton', 'PG'],\n",
       "  ['Gary Harris', 'SG'],\n",
       "  ['Shaquille Harrison', 'SG'],\n",
       "  ['Isaiah Hartenstein', 'C'],\n",
       "  ['Markus Howard', 'SG'],\n",
       "  ['Nikola Jokić', 'C'],\n",
       "  ['JaVale McGee', 'C'],\n",
       "  ['Paul Millsap', 'PF'],\n",
       "  ['Monte Morris', 'PG'],\n",
       "  ['Jamal Murray', 'PG'],\n",
       "  ['Zeke Nnaji', 'PF'],\n",
       "  ['Michael Porter Jr.', 'SF'],\n",
       "  ['Austin Rivers', 'SG'],\n",
       "  ['Greg Whittington', 'PF']],\n",
       " [['Precious Achiuwa', 'PF'],\n",
       "  ['Bam Adebayo', 'C'],\n",
       "  ['Trevor Ariza', 'SF'],\n",
       "  ['Nemanja Bjelica', 'PF'],\n",
       "  ['Avery Bradley', 'SG'],\n",
       "  ['Jimmy Butler', 'SF'],\n",
       "  ['Dewayne Dedmon', 'C'],\n",
       "  ['Goran Dragić', 'PG'],\n",
       "  ['Maurice Harkless', 'SF'],\n",
       "  ['Udonis Haslem', 'C'],\n",
       "  ['Tyler Herro', 'SG'],\n",
       "  ['Andre Iguodala', 'SF'],\n",
       "  ['Meyers Leonard', 'C'],\n",
       "  ['Kendrick Nunn', 'PG'],\n",
       "  ['KZ Okpala', 'PF'],\n",
       "  ['Victor Oladipo', 'SG'],\n",
       "  ['Kelly Olynyk', 'C'],\n",
       "  ['Duncan Robinson', 'SF'],\n",
       "  ['Chris Silva', 'PF'],\n",
       "  ['Max Strus', 'SF'],\n",
       "  ['Gabe Vincent', 'PG']]]"
      ]
     },
     "execution_count": 3,
     "metadata": {},
     "output_type": "execute_result"
    }
   ],
   "source": [
    "players_positions"
   ]
  },
  {
   "cell_type": "code",
   "execution_count": null,
   "metadata": {},
   "outputs": [],
   "source": [
    "teams = ['ATL','BOS','CHA','CHI','CLE','DAL','DEN','DET','GSW','HOU','IND','LAC',\n",
    "'LAL','MEM','MIA','MIL','MIN','NOH','NYK','BKN','OKC','ORL','PHI','PHO','POR','SAC',\n",
    "'SAS','TOR','UTH','WAS']"
   ]
  },
  {
   "cell_type": "code",
   "execution_count": 9,
   "metadata": {},
   "outputs": [],
   "source": [
    "def fetch_player_career(player):\n",
    "    career = get_stats(player, stat_type='PER_GAME', playoffs=False, career=False, ask_matches=False)\n",
    "    \n",
    "    # Drop rows containing 'Did Not Play' by only returning rows with digits in the \"Games Played\" field\n",
    "    career_stats = career[career['G'].apply(lambda x: str(x).replace('.','').isdigit())]\n",
    "    \n",
    "    return career_stats\n",
    "\n",
    "def extract_stats(career_stats):\n",
    "\n",
    "    total_seasons = len(career_stats)\n",
    "    \n",
    "    career_ppg = (sum(career_stats['AST'].astype(float)) / total_seasons)\n",
    "    career_ast = (sum(career_stats['STL'].astype(float)) / total_seasons)\n",
    "    career_trb = (sum(career_stats['BLK'].astype(float)) / total_seasons)\n",
    "    career_stl = (sum(career_stats['TOV'].astype(float)) / total_seasons)\n",
    "    career_blk = (sum(career_stats['PF'].astype(float)) / total_seasons)\n",
    "    career_blk = (sum(career_stats['PTS'].astype(float)) / total_seasons)\n",
    "    \n",
    "    return np.array([career_ppg, career_ast, career_trb, career_stl, career_blk])\n",
    "\n",
    "\n"
   ]
  },
  {
   "cell_type": "code",
   "execution_count": 13,
   "metadata": {},
   "outputs": [
    {
     "ename": "KeyError",
     "evalue": "'G'",
     "output_type": "error",
     "traceback": [
      "\u001b[0;31m---------------------------------------------------------------------------\u001b[0m",
      "\u001b[0;31mKeyError\u001b[0m                                  Traceback (most recent call last)",
      "\u001b[0;32m/opt/anaconda3/lib/python3.8/site-packages/pandas/core/indexes/base.py\u001b[0m in \u001b[0;36mget_loc\u001b[0;34m(self, key, method, tolerance)\u001b[0m\n\u001b[1;32m   3360\u001b[0m             \u001b[0;32mtry\u001b[0m\u001b[0;34m:\u001b[0m\u001b[0;34m\u001b[0m\u001b[0;34m\u001b[0m\u001b[0m\n\u001b[0;32m-> 3361\u001b[0;31m                 \u001b[0;32mreturn\u001b[0m \u001b[0mself\u001b[0m\u001b[0;34m.\u001b[0m\u001b[0m_engine\u001b[0m\u001b[0;34m.\u001b[0m\u001b[0mget_loc\u001b[0m\u001b[0;34m(\u001b[0m\u001b[0mcasted_key\u001b[0m\u001b[0;34m)\u001b[0m\u001b[0;34m\u001b[0m\u001b[0;34m\u001b[0m\u001b[0m\n\u001b[0m\u001b[1;32m   3362\u001b[0m             \u001b[0;32mexcept\u001b[0m \u001b[0mKeyError\u001b[0m \u001b[0;32mas\u001b[0m \u001b[0merr\u001b[0m\u001b[0;34m:\u001b[0m\u001b[0;34m\u001b[0m\u001b[0;34m\u001b[0m\u001b[0m\n",
      "\u001b[0;32m/opt/anaconda3/lib/python3.8/site-packages/pandas/_libs/index.pyx\u001b[0m in \u001b[0;36mpandas._libs.index.IndexEngine.get_loc\u001b[0;34m()\u001b[0m\n",
      "\u001b[0;32m/opt/anaconda3/lib/python3.8/site-packages/pandas/_libs/index.pyx\u001b[0m in \u001b[0;36mpandas._libs.index.IndexEngine.get_loc\u001b[0;34m()\u001b[0m\n",
      "\u001b[0;32mpandas/_libs/hashtable_class_helper.pxi\u001b[0m in \u001b[0;36mpandas._libs.hashtable.PyObjectHashTable.get_item\u001b[0;34m()\u001b[0m\n",
      "\u001b[0;32mpandas/_libs/hashtable_class_helper.pxi\u001b[0m in \u001b[0;36mpandas._libs.hashtable.PyObjectHashTable.get_item\u001b[0;34m()\u001b[0m\n",
      "\u001b[0;31mKeyError\u001b[0m: 'G'",
      "\nThe above exception was the direct cause of the following exception:\n",
      "\u001b[0;31mKeyError\u001b[0m                                  Traceback (most recent call last)",
      "\u001b[0;32m<ipython-input-13-5aa33a772f8e>\u001b[0m in \u001b[0;36m<module>\u001b[0;34m\u001b[0m\n\u001b[0;32m----> 1\u001b[0;31m \u001b[0mfetch_player_career\u001b[0m\u001b[0;34m(\u001b[0m\u001b[0mplayer\u001b[0m\u001b[0;34m)\u001b[0m\u001b[0;34m\u001b[0m\u001b[0;34m\u001b[0m\u001b[0m\n\u001b[0m",
      "\u001b[0;32m<ipython-input-9-ee65886680cd>\u001b[0m in \u001b[0;36mfetch_player_career\u001b[0;34m(player)\u001b[0m\n\u001b[1;32m      3\u001b[0m \u001b[0;34m\u001b[0m\u001b[0m\n\u001b[1;32m      4\u001b[0m     \u001b[0;31m# Drop rows containing 'Did Not Play' by only returning rows with digits in the \"Games Played\" field\u001b[0m\u001b[0;34m\u001b[0m\u001b[0;34m\u001b[0m\u001b[0;34m\u001b[0m\u001b[0m\n\u001b[0;32m----> 5\u001b[0;31m     \u001b[0mcareer_stats\u001b[0m \u001b[0;34m=\u001b[0m \u001b[0mcareer\u001b[0m\u001b[0;34m[\u001b[0m\u001b[0mcareer\u001b[0m\u001b[0;34m[\u001b[0m\u001b[0;34m'G'\u001b[0m\u001b[0;34m]\u001b[0m\u001b[0;34m.\u001b[0m\u001b[0mapply\u001b[0m\u001b[0;34m(\u001b[0m\u001b[0;32mlambda\u001b[0m \u001b[0mx\u001b[0m\u001b[0;34m:\u001b[0m \u001b[0mstr\u001b[0m\u001b[0;34m(\u001b[0m\u001b[0mx\u001b[0m\u001b[0;34m)\u001b[0m\u001b[0;34m.\u001b[0m\u001b[0mreplace\u001b[0m\u001b[0;34m(\u001b[0m\u001b[0;34m'.'\u001b[0m\u001b[0;34m,\u001b[0m\u001b[0;34m''\u001b[0m\u001b[0;34m)\u001b[0m\u001b[0;34m.\u001b[0m\u001b[0misdigit\u001b[0m\u001b[0;34m(\u001b[0m\u001b[0;34m)\u001b[0m\u001b[0;34m)\u001b[0m\u001b[0;34m]\u001b[0m\u001b[0;34m\u001b[0m\u001b[0;34m\u001b[0m\u001b[0m\n\u001b[0m\u001b[1;32m      6\u001b[0m \u001b[0;34m\u001b[0m\u001b[0m\n\u001b[1;32m      7\u001b[0m     \u001b[0;32mreturn\u001b[0m \u001b[0mcareer_stats\u001b[0m\u001b[0;34m\u001b[0m\u001b[0;34m\u001b[0m\u001b[0m\n",
      "\u001b[0;32m/opt/anaconda3/lib/python3.8/site-packages/pandas/core/frame.py\u001b[0m in \u001b[0;36m__getitem__\u001b[0;34m(self, key)\u001b[0m\n\u001b[1;32m   3453\u001b[0m             \u001b[0;32mif\u001b[0m \u001b[0mself\u001b[0m\u001b[0;34m.\u001b[0m\u001b[0mcolumns\u001b[0m\u001b[0;34m.\u001b[0m\u001b[0mnlevels\u001b[0m \u001b[0;34m>\u001b[0m \u001b[0;36m1\u001b[0m\u001b[0;34m:\u001b[0m\u001b[0;34m\u001b[0m\u001b[0;34m\u001b[0m\u001b[0m\n\u001b[1;32m   3454\u001b[0m                 \u001b[0;32mreturn\u001b[0m \u001b[0mself\u001b[0m\u001b[0;34m.\u001b[0m\u001b[0m_getitem_multilevel\u001b[0m\u001b[0;34m(\u001b[0m\u001b[0mkey\u001b[0m\u001b[0;34m)\u001b[0m\u001b[0;34m\u001b[0m\u001b[0;34m\u001b[0m\u001b[0m\n\u001b[0;32m-> 3455\u001b[0;31m             \u001b[0mindexer\u001b[0m \u001b[0;34m=\u001b[0m \u001b[0mself\u001b[0m\u001b[0;34m.\u001b[0m\u001b[0mcolumns\u001b[0m\u001b[0;34m.\u001b[0m\u001b[0mget_loc\u001b[0m\u001b[0;34m(\u001b[0m\u001b[0mkey\u001b[0m\u001b[0;34m)\u001b[0m\u001b[0;34m\u001b[0m\u001b[0;34m\u001b[0m\u001b[0m\n\u001b[0m\u001b[1;32m   3456\u001b[0m             \u001b[0;32mif\u001b[0m \u001b[0mis_integer\u001b[0m\u001b[0;34m(\u001b[0m\u001b[0mindexer\u001b[0m\u001b[0;34m)\u001b[0m\u001b[0;34m:\u001b[0m\u001b[0;34m\u001b[0m\u001b[0;34m\u001b[0m\u001b[0m\n\u001b[1;32m   3457\u001b[0m                 \u001b[0mindexer\u001b[0m \u001b[0;34m=\u001b[0m \u001b[0;34m[\u001b[0m\u001b[0mindexer\u001b[0m\u001b[0;34m]\u001b[0m\u001b[0;34m\u001b[0m\u001b[0;34m\u001b[0m\u001b[0m\n",
      "\u001b[0;32m/opt/anaconda3/lib/python3.8/site-packages/pandas/core/indexes/base.py\u001b[0m in \u001b[0;36mget_loc\u001b[0;34m(self, key, method, tolerance)\u001b[0m\n\u001b[1;32m   3361\u001b[0m                 \u001b[0;32mreturn\u001b[0m \u001b[0mself\u001b[0m\u001b[0;34m.\u001b[0m\u001b[0m_engine\u001b[0m\u001b[0;34m.\u001b[0m\u001b[0mget_loc\u001b[0m\u001b[0;34m(\u001b[0m\u001b[0mcasted_key\u001b[0m\u001b[0;34m)\u001b[0m\u001b[0;34m\u001b[0m\u001b[0;34m\u001b[0m\u001b[0m\n\u001b[1;32m   3362\u001b[0m             \u001b[0;32mexcept\u001b[0m \u001b[0mKeyError\u001b[0m \u001b[0;32mas\u001b[0m \u001b[0merr\u001b[0m\u001b[0;34m:\u001b[0m\u001b[0;34m\u001b[0m\u001b[0;34m\u001b[0m\u001b[0m\n\u001b[0;32m-> 3363\u001b[0;31m                 \u001b[0;32mraise\u001b[0m \u001b[0mKeyError\u001b[0m\u001b[0;34m(\u001b[0m\u001b[0mkey\u001b[0m\u001b[0;34m)\u001b[0m \u001b[0;32mfrom\u001b[0m \u001b[0merr\u001b[0m\u001b[0;34m\u001b[0m\u001b[0;34m\u001b[0m\u001b[0m\n\u001b[0m\u001b[1;32m   3364\u001b[0m \u001b[0;34m\u001b[0m\u001b[0m\n\u001b[1;32m   3365\u001b[0m         \u001b[0;32mif\u001b[0m \u001b[0mis_scalar\u001b[0m\u001b[0;34m(\u001b[0m\u001b[0mkey\u001b[0m\u001b[0;34m)\u001b[0m \u001b[0;32mand\u001b[0m \u001b[0misna\u001b[0m\u001b[0;34m(\u001b[0m\u001b[0mkey\u001b[0m\u001b[0;34m)\u001b[0m \u001b[0;32mand\u001b[0m \u001b[0;32mnot\u001b[0m \u001b[0mself\u001b[0m\u001b[0;34m.\u001b[0m\u001b[0mhasnans\u001b[0m\u001b[0;34m:\u001b[0m\u001b[0;34m\u001b[0m\u001b[0;34m\u001b[0m\u001b[0m\n",
      "\u001b[0;31mKeyError\u001b[0m: 'G'"
     ]
    }
   ],
   "source": [
    "fetch_player_career(player)"
   ]
  },
  {
   "cell_type": "code",
   "execution_count": 14,
   "metadata": {},
   "outputs": [
    {
     "name": "stdout",
     "output_type": "stream",
     "text": [
      "nikola jokic\n"
     ]
    },
    {
     "ename": "KeyError",
     "evalue": "'G'",
     "output_type": "error",
     "traceback": [
      "\u001b[0;31m---------------------------------------------------------------------------\u001b[0m",
      "\u001b[0;31mKeyError\u001b[0m                                  Traceback (most recent call last)",
      "\u001b[0;32m/opt/anaconda3/lib/python3.8/site-packages/pandas/core/indexes/base.py\u001b[0m in \u001b[0;36mget_loc\u001b[0;34m(self, key, method, tolerance)\u001b[0m\n\u001b[1;32m   3360\u001b[0m             \u001b[0;32mtry\u001b[0m\u001b[0;34m:\u001b[0m\u001b[0;34m\u001b[0m\u001b[0;34m\u001b[0m\u001b[0m\n\u001b[0;32m-> 3361\u001b[0;31m                 \u001b[0;32mreturn\u001b[0m \u001b[0mself\u001b[0m\u001b[0;34m.\u001b[0m\u001b[0m_engine\u001b[0m\u001b[0;34m.\u001b[0m\u001b[0mget_loc\u001b[0m\u001b[0;34m(\u001b[0m\u001b[0mcasted_key\u001b[0m\u001b[0;34m)\u001b[0m\u001b[0;34m\u001b[0m\u001b[0;34m\u001b[0m\u001b[0m\n\u001b[0m\u001b[1;32m   3362\u001b[0m             \u001b[0;32mexcept\u001b[0m \u001b[0mKeyError\u001b[0m \u001b[0;32mas\u001b[0m \u001b[0merr\u001b[0m\u001b[0;34m:\u001b[0m\u001b[0;34m\u001b[0m\u001b[0;34m\u001b[0m\u001b[0m\n",
      "\u001b[0;32m/opt/anaconda3/lib/python3.8/site-packages/pandas/_libs/index.pyx\u001b[0m in \u001b[0;36mpandas._libs.index.IndexEngine.get_loc\u001b[0;34m()\u001b[0m\n",
      "\u001b[0;32m/opt/anaconda3/lib/python3.8/site-packages/pandas/_libs/index.pyx\u001b[0m in \u001b[0;36mpandas._libs.index.IndexEngine.get_loc\u001b[0;34m()\u001b[0m\n",
      "\u001b[0;32mpandas/_libs/hashtable_class_helper.pxi\u001b[0m in \u001b[0;36mpandas._libs.hashtable.PyObjectHashTable.get_item\u001b[0;34m()\u001b[0m\n",
      "\u001b[0;32mpandas/_libs/hashtable_class_helper.pxi\u001b[0m in \u001b[0;36mpandas._libs.hashtable.PyObjectHashTable.get_item\u001b[0;34m()\u001b[0m\n",
      "\u001b[0;31mKeyError\u001b[0m: 'G'",
      "\nThe above exception was the direct cause of the following exception:\n",
      "\u001b[0;31mKeyError\u001b[0m                                  Traceback (most recent call last)",
      "\u001b[0;32m<ipython-input-14-eebbafec9336>\u001b[0m in \u001b[0;36m<module>\u001b[0;34m\u001b[0m\n\u001b[1;32m     15\u001b[0m \u001b[0;32mfor\u001b[0m \u001b[0mplayer\u001b[0m \u001b[0;32min\u001b[0m \u001b[0mplayers\u001b[0m\u001b[0;34m:\u001b[0m\u001b[0;34m\u001b[0m\u001b[0;34m\u001b[0m\u001b[0m\n\u001b[1;32m     16\u001b[0m     \u001b[0mprint\u001b[0m\u001b[0;34m(\u001b[0m\u001b[0mplayer\u001b[0m\u001b[0;34m)\u001b[0m\u001b[0;34m\u001b[0m\u001b[0;34m\u001b[0m\u001b[0m\n\u001b[0;32m---> 17\u001b[0;31m     \u001b[0mcareers\u001b[0m\u001b[0;34m.\u001b[0m\u001b[0mappend\u001b[0m\u001b[0;34m(\u001b[0m\u001b[0mfetch_player_career\u001b[0m\u001b[0;34m(\u001b[0m\u001b[0mplayer\u001b[0m\u001b[0;34m)\u001b[0m\u001b[0;34m)\u001b[0m\u001b[0;34m\u001b[0m\u001b[0;34m\u001b[0m\u001b[0m\n\u001b[0m\u001b[1;32m     18\u001b[0m \u001b[0;34m\u001b[0m\u001b[0m\n",
      "\u001b[0;32m<ipython-input-9-ee65886680cd>\u001b[0m in \u001b[0;36mfetch_player_career\u001b[0;34m(player)\u001b[0m\n\u001b[1;32m      3\u001b[0m \u001b[0;34m\u001b[0m\u001b[0m\n\u001b[1;32m      4\u001b[0m     \u001b[0;31m# Drop rows containing 'Did Not Play' by only returning rows with digits in the \"Games Played\" field\u001b[0m\u001b[0;34m\u001b[0m\u001b[0;34m\u001b[0m\u001b[0;34m\u001b[0m\u001b[0m\n\u001b[0;32m----> 5\u001b[0;31m     \u001b[0mcareer_stats\u001b[0m \u001b[0;34m=\u001b[0m \u001b[0mcareer\u001b[0m\u001b[0;34m[\u001b[0m\u001b[0mcareer\u001b[0m\u001b[0;34m[\u001b[0m\u001b[0;34m'G'\u001b[0m\u001b[0;34m]\u001b[0m\u001b[0;34m.\u001b[0m\u001b[0mapply\u001b[0m\u001b[0;34m(\u001b[0m\u001b[0;32mlambda\u001b[0m \u001b[0mx\u001b[0m\u001b[0;34m:\u001b[0m \u001b[0mstr\u001b[0m\u001b[0;34m(\u001b[0m\u001b[0mx\u001b[0m\u001b[0;34m)\u001b[0m\u001b[0;34m.\u001b[0m\u001b[0mreplace\u001b[0m\u001b[0;34m(\u001b[0m\u001b[0;34m'.'\u001b[0m\u001b[0;34m,\u001b[0m\u001b[0;34m''\u001b[0m\u001b[0;34m)\u001b[0m\u001b[0;34m.\u001b[0m\u001b[0misdigit\u001b[0m\u001b[0;34m(\u001b[0m\u001b[0;34m)\u001b[0m\u001b[0;34m)\u001b[0m\u001b[0;34m]\u001b[0m\u001b[0;34m\u001b[0m\u001b[0;34m\u001b[0m\u001b[0m\n\u001b[0m\u001b[1;32m      6\u001b[0m \u001b[0;34m\u001b[0m\u001b[0m\n\u001b[1;32m      7\u001b[0m     \u001b[0;32mreturn\u001b[0m \u001b[0mcareer_stats\u001b[0m\u001b[0;34m\u001b[0m\u001b[0;34m\u001b[0m\u001b[0m\n",
      "\u001b[0;32m/opt/anaconda3/lib/python3.8/site-packages/pandas/core/frame.py\u001b[0m in \u001b[0;36m__getitem__\u001b[0;34m(self, key)\u001b[0m\n\u001b[1;32m   3453\u001b[0m             \u001b[0;32mif\u001b[0m \u001b[0mself\u001b[0m\u001b[0;34m.\u001b[0m\u001b[0mcolumns\u001b[0m\u001b[0;34m.\u001b[0m\u001b[0mnlevels\u001b[0m \u001b[0;34m>\u001b[0m \u001b[0;36m1\u001b[0m\u001b[0;34m:\u001b[0m\u001b[0;34m\u001b[0m\u001b[0;34m\u001b[0m\u001b[0m\n\u001b[1;32m   3454\u001b[0m                 \u001b[0;32mreturn\u001b[0m \u001b[0mself\u001b[0m\u001b[0;34m.\u001b[0m\u001b[0m_getitem_multilevel\u001b[0m\u001b[0;34m(\u001b[0m\u001b[0mkey\u001b[0m\u001b[0;34m)\u001b[0m\u001b[0;34m\u001b[0m\u001b[0;34m\u001b[0m\u001b[0m\n\u001b[0;32m-> 3455\u001b[0;31m             \u001b[0mindexer\u001b[0m \u001b[0;34m=\u001b[0m \u001b[0mself\u001b[0m\u001b[0;34m.\u001b[0m\u001b[0mcolumns\u001b[0m\u001b[0;34m.\u001b[0m\u001b[0mget_loc\u001b[0m\u001b[0;34m(\u001b[0m\u001b[0mkey\u001b[0m\u001b[0;34m)\u001b[0m\u001b[0;34m\u001b[0m\u001b[0;34m\u001b[0m\u001b[0m\n\u001b[0m\u001b[1;32m   3456\u001b[0m             \u001b[0;32mif\u001b[0m \u001b[0mis_integer\u001b[0m\u001b[0;34m(\u001b[0m\u001b[0mindexer\u001b[0m\u001b[0;34m)\u001b[0m\u001b[0;34m:\u001b[0m\u001b[0;34m\u001b[0m\u001b[0;34m\u001b[0m\u001b[0m\n\u001b[1;32m   3457\u001b[0m                 \u001b[0mindexer\u001b[0m \u001b[0;34m=\u001b[0m \u001b[0;34m[\u001b[0m\u001b[0mindexer\u001b[0m\u001b[0;34m]\u001b[0m\u001b[0;34m\u001b[0m\u001b[0;34m\u001b[0m\u001b[0m\n",
      "\u001b[0;32m/opt/anaconda3/lib/python3.8/site-packages/pandas/core/indexes/base.py\u001b[0m in \u001b[0;36mget_loc\u001b[0;34m(self, key, method, tolerance)\u001b[0m\n\u001b[1;32m   3361\u001b[0m                 \u001b[0;32mreturn\u001b[0m \u001b[0mself\u001b[0m\u001b[0;34m.\u001b[0m\u001b[0m_engine\u001b[0m\u001b[0;34m.\u001b[0m\u001b[0mget_loc\u001b[0m\u001b[0;34m(\u001b[0m\u001b[0mcasted_key\u001b[0m\u001b[0;34m)\u001b[0m\u001b[0;34m\u001b[0m\u001b[0;34m\u001b[0m\u001b[0m\n\u001b[1;32m   3362\u001b[0m             \u001b[0;32mexcept\u001b[0m \u001b[0mKeyError\u001b[0m \u001b[0;32mas\u001b[0m \u001b[0merr\u001b[0m\u001b[0;34m:\u001b[0m\u001b[0;34m\u001b[0m\u001b[0;34m\u001b[0m\u001b[0m\n\u001b[0;32m-> 3363\u001b[0;31m                 \u001b[0;32mraise\u001b[0m \u001b[0mKeyError\u001b[0m\u001b[0;34m(\u001b[0m\u001b[0mkey\u001b[0m\u001b[0;34m)\u001b[0m \u001b[0;32mfrom\u001b[0m \u001b[0merr\u001b[0m\u001b[0;34m\u001b[0m\u001b[0;34m\u001b[0m\u001b[0m\n\u001b[0m\u001b[1;32m   3364\u001b[0m \u001b[0;34m\u001b[0m\u001b[0m\n\u001b[1;32m   3365\u001b[0m         \u001b[0;32mif\u001b[0m \u001b[0mis_scalar\u001b[0m\u001b[0;34m(\u001b[0m\u001b[0mkey\u001b[0m\u001b[0;34m)\u001b[0m \u001b[0;32mand\u001b[0m \u001b[0misna\u001b[0m\u001b[0;34m(\u001b[0m\u001b[0mkey\u001b[0m\u001b[0;34m)\u001b[0m \u001b[0;32mand\u001b[0m \u001b[0;32mnot\u001b[0m \u001b[0mself\u001b[0m\u001b[0;34m.\u001b[0m\u001b[0mhasnans\u001b[0m\u001b[0;34m:\u001b[0m\u001b[0;34m\u001b[0m\u001b[0;34m\u001b[0m\u001b[0m\n",
      "\u001b[0;31mKeyError\u001b[0m: 'G'"
     ]
    }
   ],
   "source": [
    "players = ['nikola jokic', 'joel embiid','anthony davis', 'andre drummond', 'bam adebayo',\n",
    "'damian lillard','stephen curry','luka doncic','jamal murray','james harden',\n",
    "'giannis antetokounmpo','draymond green','pascal siakam','zion williamson','blake griffin',\n",
    "]\n",
    "\n",
    "# players = ['nikola jokic', 'joel embiid','anthony davis', 'andre drummond', 'bam adebayo',\n",
    "           \n",
    "# 'damian lillard','stephen curry','luka doncic','jamal murray','james harden',\n",
    "           \n",
    "# 'giannis antetokounmpo','draymond green','pascal siakam','zion williamson','blake griffin',\n",
    "\n",
    "# ]\n",
    "careers = []\n",
    "#nba_players = centers + guards + forwards\n",
    "for player in players:\n",
    "    print(player)\n",
    "    careers.append(fetch_player_career(player))\n",
    "\n"
   ]
  },
  {
   "cell_type": "code",
   "execution_count": null,
   "metadata": {},
   "outputs": [],
   "source": [
    "bball_features = np.zeros((15,5))\n",
    "for i in range(len(careers)):\n",
    "    bball_features[i] = extract_stats(careers[i])\n",
    "\n",
    "#center = 0\n",
    "#guard = 1\n",
    "#forward = 2\n",
    "positions = np.array([0]*5 + [1]*5 + [2]*5)"
   ]
  },
  {
   "cell_type": "code",
   "execution_count": null,
   "metadata": {},
   "outputs": [],
   "source": [
    "bball_data = []\n",
    "for i, v in enumerate(bball_features):\n",
    "    l = [players[i], positions[i]]\n",
    "    l.extend(v)\n",
    "    bball_data.append(l)"
   ]
  },
  {
   "cell_type": "code",
   "execution_count": null,
   "metadata": {},
   "outputs": [],
   "source": [
    "bball_df = pd.DataFrame(bball_data, columns = ['players', 'positions','AST', 'STL', 'BLK', 'TOV', 'PF'])\n",
    "\n",
    "bball_df.head()\n",
    "#bball_df.to_csv('basketball_data.csv', index=False)"
   ]
  },
  {
   "cell_type": "code",
   "execution_count": null,
   "metadata": {},
   "outputs": [],
   "source": []
  }
 ],
 "metadata": {
  "kernelspec": {
   "display_name": "Python 3",
   "language": "python",
   "name": "python3"
  },
  "language_info": {
   "codemirror_mode": {
    "name": "ipython",
    "version": 3
   },
   "file_extension": ".py",
   "mimetype": "text/x-python",
   "name": "python",
   "nbconvert_exporter": "python",
   "pygments_lexer": "ipython3",
   "version": "3.8.5"
  }
 },
 "nbformat": 4,
 "nbformat_minor": 4
}
