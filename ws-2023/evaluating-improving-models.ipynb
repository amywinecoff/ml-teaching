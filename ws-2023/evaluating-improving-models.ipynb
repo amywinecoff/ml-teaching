{
 "cells": [
  {
   "cell_type": "code",
   "execution_count": 26,
   "metadata": {},
   "outputs": [],
   "source": [
    "import numpy as np\n",
    "from sklearn.dummy import DummyClassifier\n",
    "from sklearn.metrics import confusion_matrix\n",
    "from sklearn.metrics import precision_score, recall_score, f1_score, accuracy_score, mean_absolute_error,mean_squared_error \n",
    "from sklearn.metrics import precision_recall_curve\n",
    "import matplotlib.pyplot as plt\n",
    "\n",
    "import pandas as pd\n",
    "\n",
    "# import matplotlib.pyplot as plt\n",
    "# import pandas as pd\n",
    "# from sklearn import datasets, neighbors\n",
    "from mlxtend.plotting import plot_decision_regions\n",
    "from sklearn.decomposition import PCA"
   ]
  },
  {
   "cell_type": "markdown",
   "metadata": {},
   "source": [
    "From ML with R\n",
    "\"The goal of evaluating a classification model is to have a better understanding of how its performance with extrapolate to future cases. SInce it is usually not feasible to test a still unprove model in a live, environment, we typically simulate fugure conditions by asking the model to classify a dataset made of cases that resimble what it woll be asked to do in the future. By observing the learner's responses to this examination, we can learn abou tits strenghts ans weaknesses\"\n",
    "\n",
    "We accomplish this by comparing the model's predicted class values to the actual class values "
   ]
  },
  {
   "cell_type": "markdown",
   "metadata": {},
   "source": [
    "This tutorial draws code and content from Kevin Markham's General Assembly data science course https://github.com/justmarkham/DAT8, maykulkarni's machine learning notebooks repo [https://github.com/maykulkarni] \n",
    "\n",
    "Content is also drawn from An Introduction to Statistical Learning, Applied Predictive Modeling, and Machine Learning with R\n"
   ]
  },
  {
   "cell_type": "markdown",
   "metadata": {},
   "source": [
    "# Part I: Metrics"
   ]
  },
  {
   "cell_type": "markdown",
   "metadata": {},
   "source": [
    "### Classification Metrics\n",
    "**Accuracy** is the number of correct predictions divided by the total number of predictions made\n",
    "\n",
    "<br/><br/>\n",
    "\n",
    "$$\\text{Accuracy} = \\frac{\\text{# Correct Predictions}}{\\text{Total # of Predictions}}$$\n",
    "\n",
    "<br/><br/>\n",
    "\n",
    "Imagine that we are trying to build a model to filter out spam email. The following data contains the text of email messages along with their actual type (i.e., label). \"Ham\" messages constitute real email messages whereas \"spam\" messages are, well, spam.  "
   ]
  },
  {
   "cell_type": "code",
   "execution_count": null,
   "metadata": {},
   "outputs": [],
   "source": [
    "#Data from https://github.com/PacktPublishing/Machine-Learning-with-R-Third-Edition\n",
    "spam_ham = pd.read_csv('sms_spam.csv')\n",
    "spam_ham = spam_ham[['type']]\n",
    "spam_ham.head()"
   ]
  },
  {
   "cell_type": "markdown",
   "metadata": {},
   "source": [
    "If we have a quick look at the type column, we can see that most messages are ham."
   ]
  },
  {
   "cell_type": "code",
   "execution_count": null,
   "metadata": {},
   "outputs": [],
   "source": [
    "counts_df = spam_ham [['type']].groupby(['type']).size().reset_index(name='outcome_counts')\n",
    "\n",
    "counts_df['percentage'] = counts_df['outcome_counts'] / counts_df['outcome_counts'].sum()\n",
    "\n",
    "counts_df"
   ]
  },
  {
   "cell_type": "code",
   "execution_count": null,
   "metadata": {},
   "outputs": [],
   "source": [
    "t= np.zeros(spam_ham.size)\n",
    "t.size"
   ]
  },
  {
   "cell_type": "markdown",
   "metadata": {},
   "source": [
    "Using this data, we can build a very simple classifier, which just predicts the majority class. In other words, the classifier will always predict \"ham.\"  "
   ]
  },
  {
   "cell_type": "code",
   "execution_count": null,
   "metadata": {},
   "outputs": [],
   "source": [
    "dummy_clf = DummyClassifier(strategy=\"most_frequent\")\n",
    "#dummy_clf = DummyClassifier(strategy=\"stratified\")\n",
    "#Note, by definition, the features are ignored in this model\n",
    "dummy_clf.fit(np.zeros(spam_ham.size), spam_ham[['type']])\n",
    "#dummy_clf.fit(spam_ham[['text']], spam_ham[['type']])\n",
    "dummy_predictions = dummy_clf.predict(np.zeros(spam_ham.size))\n",
    "\n",
    "accuracy = round(accuracy_score(spam_ham[['type']], dummy_predictions),2)\n",
    "print(f'Accuracy of majority class model is: {accuracy}')"
   ]
  },
  {
   "cell_type": "markdown",
   "metadata": {},
   "source": [
    "Judging by overall accuracy alone, we might conclude that the dummy classifier is doing a decent job. But of course, this is is not a good model since it never predicts \"spam,\" which is what we are actually trying to get the model to do correctly."
   ]
  },
  {
   "cell_type": "markdown",
   "metadata": {},
   "source": [
    "A **confusion matrix** is used for classification models. It allows us to break down our results in terms of true positives, true negatives, false positives, and false negatives. This gives us a better sense of the kinds of errors our model is making\n",
    "<br/><br/>\n",
    "\n",
    "|            | Predicted true | Predicted false |\n",
    "|------------|----------------|-----------------|\n",
    "|Actual true | True Positive  | False Negative  |\n",
    "|Actual false| False Positive | True Negative   |\n",
    "\n",
    "<br/><br/>\n",
    "\n",
    "Accordingly, we can reframe our formula for accuracy as\n",
    "\n",
    "$$\\text{Accuracy} = \\frac{TP + TN}{TP + TN + FP + FN}$$\n",
    "<br/><br/>\n",
    "\n",
    "We can create a confusion matrix from our majority class model"
   ]
  },
  {
   "cell_type": "code",
   "execution_count": null,
   "metadata": {},
   "outputs": [],
   "source": [
    "cm = confusion_matrix(spam_ham[['type']], dummy_predictions)\n",
    "\n",
    "#need to flip so spam is the positive case\n",
    "cm = np.flip(cm)\n",
    "\n",
    "\n",
    "cm_df = pd.DataFrame(cm, \n",
    "               columns=['predicted_spam', 'predicted_ham'], \n",
    "               index = ['actual_spam', 'actual_ham'])\n",
    "\n",
    "\n",
    "\n",
    "cm_df"
   ]
  },
  {
   "cell_type": "markdown",
   "metadata": {},
   "source": [
    "In this case, we'll consider \"spam\" the positive case since that is what we are trying to detect. So, cases where the model predicted \"ham\" but the message was actually \"spam\" are false negatives. We have 747 of these cases.\n",
    "\n",
    "Because the dummy classifier always predicts \"ham,\" there are no cases where the model predicted \"spam\" and the actual outcome was \"ham;\" however, if it had, those would constitute false positives.\n",
    "\n",
    "Even though our model performed well in terms of overall accuracy, we can see from the confusion matrix that it performed abysmally in terms of false negatives. In machine learning, overall accuracy provides a poor measure of a model's performance when we have a \"class imbalance,\" meaning one label occurs much more frequently than the other(s). \n",
    "\n"
   ]
  },
  {
   "cell_type": "markdown",
   "metadata": {},
   "source": [
    "Often with machine learning, we neither want a model that is too conservative in predicting the positive class nor too aggressive. Two metrics that help us assess this are precision and recall\n",
    "\n",
    "<br/><br/>\n",
    "**Precision** captures what proportion of the model's prediction of the positive class actually belong to the positive class \n",
    "\n",
    "$$\\text{Precision} = \\frac{TP}{TP + FP}$$\n",
    "\n",
    "<br/><br/>\n",
    "\n",
    "**Recall** captures the proportion of cases that actually belong to the positive class were predicted as positive by the model. \n",
    "\n",
    "$$\\text{Recall} = \\frac{TP}{TP + FN}$$\n",
    "\n",
    "\n",
    "<br/><br/>\n",
    "A precise model will only predict the positive class when the example is very likely to be positive. A model that has high recall will capture a large proportion of the actual positive examples. \n",
    "\n",
    "We will calculate precision and recall for our dummy classifier, but first we need to do some minor modifications on our predictions to make this possible. If we attempt to calculate these metrics from just the majority class predictions, we'll get into some divide by zero issues for precision since we have no spam predictions. \n",
    "\n",
    "I'll demonstrate this below, just to show you. "
   ]
  },
  {
   "cell_type": "code",
   "execution_count": null,
   "metadata": {},
   "outputs": [],
   "source": [
    "TP = cm_df.loc['actual_spam', 'predicted_spam']\n",
    "TN = cm_df.loc['actual_ham', 'predicted_ham']\n",
    "FP = cm_df.loc['actual_ham', 'predicted_spam']\n",
    "FN = cm_df.loc['actual_spam', 'predicted_ham']\n",
    "\n",
    "print (f'Precision is {TP/(TP + FP)}')\n",
    "print (f'Recall is {TP/(TP + FN)}')"
   ]
  },
  {
   "cell_type": "markdown",
   "metadata": {},
   "source": [
    "Okay. For illustrative purposes, we'll add a few additional observations to our dataset that will allow us to calculate these metrics."
   ]
  },
  {
   "cell_type": "code",
   "execution_count": null,
   "metadata": {},
   "outputs": [],
   "source": [
    "new_data = pd.DataFrame(['spam', 'spam', 'spam', 'spam', \n",
    "                         'spam', 'spam', 'ham', 'ham'], columns=['type'])\n",
    "\n",
    "\n",
    "new_predictions = np.array(['spam', 'spam', 'spam', 'spam', \n",
    "                                'spam', 'spam', 'spam', 'spam'])\n",
    "\n",
    "new_spam_ham = pd.concat([spam_ham, new_data], ignore_index=True)\n",
    "new_dummy_predictions = np.append(dummy_predictions, new_predictions)\n",
    "\n",
    "new_cm = confusion_matrix(new_spam_ham[['type']], new_dummy_predictions)\n",
    "\n",
    "#need to flip so spam is the positive case\n",
    "new_cm = np.flip(new_cm)\n",
    "\n",
    "\n",
    "new_cm_df = pd.DataFrame(new_cm, \n",
    "               columns=['predicted_spam', 'predicted_ham'], \n",
    "               index = ['actual_spam', 'actual_ham'])\n",
    "\n",
    "\n",
    "\n",
    "new_cm_df\n"
   ]
  },
  {
   "cell_type": "markdown",
   "metadata": {},
   "source": [
    "Our new confusion matrix reveals that we have 6 true positives, 4812 true negatives, 2 false positives, and 747 false negatives. With these, we can now calculate precision and recall."
   ]
  },
  {
   "cell_type": "code",
   "execution_count": null,
   "metadata": {},
   "outputs": [],
   "source": [
    "TP = new_cm_df.loc['actual_spam', 'predicted_spam']\n",
    "TN = new_cm_df.loc['actual_ham', 'predicted_ham']\n",
    "FP = new_cm_df.loc['actual_ham', 'predicted_spam']\n",
    "FN = new_cm_df.loc['actual_spam', 'predicted_ham']\n",
    "\n",
    "dc_precision = TP/(TP + FP)\n",
    "dc_recall = TP/(TP + FN)\n",
    "\n",
    "print (f'Precision is {dc_precision}')\n",
    "print (f'Recall is {dc_recall}')\n"
   ]
  },
  {
   "cell_type": "markdown",
   "metadata": {},
   "source": [
    "Precision is better than recall. Why is this? We have designed our dummy classifier so that it almost never predicts \"spam.\" The data we added contained only 8 predictions of \"spam,\" 6 of which were correct (6/8 = 0.75). So, when our dummy model does predict the positive class (i.e., \"spam\"), it does a pretty decent job. It's a reasonably precise model.\n",
    "\n",
    "What our model does not do well is cover all the actual instances of spam in the dataset. This is captured in our recall measure, which is very low. Again, this is because our model is not capable of capturing (i.e., correctly predicting) most of the actual spam examples.\n",
    "\n",
    "Precision and recall can tell us a lot about how our model is performing, but it's nice to have a single summary statistic as well. The F1 Score or F-measure, which combines precision and recall using the harmonic mean."
   ]
  },
  {
   "cell_type": "markdown",
   "metadata": {},
   "source": [
    "**F1 score** is the harmonic mean of precision and recall. \n",
    "\n",
    "\n",
    "$$\\text{F}_1 = 2 \\cdot \\frac{\\text{precision} \\cdot \\text{recall}}{\\text{precision} + \\text{recall}}$$"
   ]
  },
  {
   "cell_type": "code",
   "execution_count": null,
   "metadata": {},
   "outputs": [],
   "source": [
    "dc_F1 = 2* ((dc_precision*dc_recall)/(dc_precision + dc_recall))\n",
    "print(f'F1 is: {dc_F1}')"
   ]
  },
  {
   "cell_type": "markdown",
   "metadata": {},
   "source": [
    "Note, we can also calculate all these metrics using the metrics functionality of scikit learn. We just need to convert our classes to binary first."
   ]
  },
  {
   "cell_type": "code",
   "execution_count": null,
   "metadata": {},
   "outputs": [],
   "source": [
    "new_spam_ham['pos_case'] = np.where(new_spam_ham['type']== 'spam', 1, 0)\n",
    "new_dummy_predictions_binary = np.where(new_dummy_predictions == \"spam\", 1,0)\n",
    "f1_score(new_spam_ham[['pos_case']], new_dummy_predictions_binary)\n"
   ]
  },
  {
   "cell_type": "markdown",
   "metadata": {},
   "source": [
    "There are many other metrics for evaluating classification models. Techniques that may be a particular help for visualizing results are precision recall curves or receiver operating characteristic (ROC) curves. You can learn more about these techniques here [INSERT LINK]"
   ]
  },
  {
   "cell_type": "markdown",
   "metadata": {},
   "source": [
    "### Regression Metrics\n",
    "\n",
    "So far we have only discussed metrics for evaluating classification models, but of course, there are metrics for evaluating regression models as well. Several metrics that are commonly used include mean absolute error, mean squared error, and root mean squared error. In the formulas below, $y_i$ is the actual value for observation i and $\\hat{y}_i$ is the predicted value for observation i"
   ]
  },
  {
   "cell_type": "markdown",
   "metadata": {},
   "source": [
    "**Mean Absolute Error** (MAE) is the mean of the absolute value of the errors:\n",
    "\n",
    "$$\\frac 1n\\sum_{i=1}^n|y_i-\\hat{y}_i|$$\n",
    " \n",
    "**Mean Squared Error** (MSE) is the mean of the squared errors:\n",
    "\n",
    "$$\\frac 1n\\sum_{i=1}^n(y_i-\\hat{y}_i)^2$$\n",
    "\n",
    "**Root Mean Squared Error** (RMSE) is the square root of the mean of the squared errors:\n",
    "\n",
    "$$\\sqrt{\\frac 1n\\sum_{i=1}^n(y_i-\\hat{y}_i)^2}$$\n",
    "\n",
    "\n",
    "\n"
   ]
  },
  {
   "cell_type": "markdown",
   "metadata": {},
   "source": [
    "Introduce LASSO? Do the overfitting bit and then move on to regression metrics? Need to include some kind of model data here to build things out. Possibly use the same basketball data?"
   ]
  },
  {
   "cell_type": "code",
   "execution_count": null,
   "metadata": {},
   "outputs": [],
   "source": [
    "# # import numpy as np\n",
    "# print ('MAE:', metrics.mean_absolute_error(true, pred))\n",
    "# print ('MSE:', metrics.mean_squared_error(true, pred))\n",
    "# print ('RMSE:', np.sqrt(metrics.mean_squared_error(true, pred)))\n",
    "\n",
    "#steal some stuff from this: https://github.com/justmarkham/DAT8/blob/master/other/model_evaluation_comparison.md"
   ]
  },
  {
   "cell_type": "markdown",
   "metadata": {},
   "source": [
    "## Evaluation Paradigms"
   ]
  },
  {
   "cell_type": "markdown",
   "metadata": {},
   "source": [
    "<font size=\"1\"> *Source note: This next section of the workshop notebook is takes sections, some nearly verbatim, from [this notebook](https://github.com/justmarkham/DAT8/blob/master/notebooks/09_model_evaluation.ipynb) because it contains one of the best explainations of evaluation paradigms I've come across.* </font>"
   ]
  },
  {
   "cell_type": "markdown",
   "metadata": {},
   "source": [
    "Thus far, we have discussed evaluation without diving into which data metrics are calculated on. In machine learning, we train a model on one dataset with the goal of making accurate predictions in another dataset. In other words, we aim to create a model that has good generalization. Our evaluation metrics should ideally give us a good sense of how well our model would perform on new data. We will explore several different strategies for training and evaluating models that have different implications for generalization (some good and some not so good).\n",
    "\n",
    "First, let's load some new data.\n",
    "\n",
    "From the blog post: \"Now we’re ready to prepare our training data. To do this, we’ll take the per-season, average stats. We’ll sum this and then divide by seasons played. This will give us per-game averages. We use per-game averages because it factors career-length into the model. In other words, if a player scored 2,000 career assists, it matters whether that player accomplished it within seven years or 15 years in the league, as it will show how efficient they were in their respective position.\n",
    "\n",
    "So for example, if a player averaged 15 points per game in their first season, and 20 points per game in their second season, we’ll sum 15 and 20 to get 35, then divide by 2 seasons played to get a career average points-per-game of 17.5.\"\n",
    "\n",
    "AST - Assists\n",
    "\n",
    "\n",
    "\n"
   ]
  },
  {
   "cell_type": "markdown",
   "metadata": {},
   "source": [
    "Going to attempt to adapt what Brian has already done for continuity. Either attempt to use the same regression example or predict whether red or white?"
   ]
  },
  {
   "cell_type": "code",
   "execution_count": null,
   "metadata": {},
   "outputs": [],
   "source": [
    "# download wine datasets, load directly into a Pandas DataFrame\n",
    "url_red = 'https://archive.ics.uci.edu/ml/machine-learning-databases/wine-quality/winequality-red.csv'\n",
    "url_white = 'https://archive.ics.uci.edu/ml/machine-learning-databases/wine-quality/winequality-white.csv'\n",
    "# these data are in text tables in which the separation of columns is indicated with a semicolon \";\" \n",
    "red_df = pd.read_csv(url_red, sep=\";\")\n",
    "white_df = pd.read_csv(url_white, sep=\";\")"
   ]
  },
  {
   "cell_type": "code",
   "execution_count": 2,
   "metadata": {},
   "outputs": [],
   "source": [
    "nba = pd.DataFrame(columns = ['ast','stl','blk','tov','pf','pts', \n",
    "                                             'name', 'position', 'team'])"
   ]
  },
  {
   "cell_type": "code",
   "execution_count": 3,
   "metadata": {},
   "outputs": [],
   "source": [
    "import glob, os\n",
    "csv_files = []\n",
    "os.chdir(\"/Users/amywinecoff/Documents/CITP/Research/Github/ml-teaching/basketball_reference_scraper/data/players\")\n",
    "for file in glob.glob(\"*.csv\"):\n",
    "    csv_files.append(file)\n",
    "\n",
    "for csv in csv_files:\n",
    "    d = pd.read_csv(csv)\n",
    "    nba = pd.concat([nba, d], axis=0)"
   ]
  },
  {
   "cell_type": "code",
   "execution_count": 4,
   "metadata": {},
   "outputs": [
    {
     "data": {
      "text/html": [
       "<div>\n",
       "<style scoped>\n",
       "    .dataframe tbody tr th:only-of-type {\n",
       "        vertical-align: middle;\n",
       "    }\n",
       "\n",
       "    .dataframe tbody tr th {\n",
       "        vertical-align: top;\n",
       "    }\n",
       "\n",
       "    .dataframe thead th {\n",
       "        text-align: right;\n",
       "    }\n",
       "</style>\n",
       "<table border=\"1\" class=\"dataframe\">\n",
       "  <thead>\n",
       "    <tr style=\"text-align: right;\">\n",
       "      <th></th>\n",
       "      <th>ast</th>\n",
       "      <th>stl</th>\n",
       "      <th>blk</th>\n",
       "      <th>tov</th>\n",
       "      <th>pf</th>\n",
       "      <th>pts</th>\n",
       "      <th>name</th>\n",
       "      <th>position</th>\n",
       "      <th>team</th>\n",
       "    </tr>\n",
       "  </thead>\n",
       "  <tbody>\n",
       "    <tr>\n",
       "      <th>0</th>\n",
       "      <td>1.071429</td>\n",
       "      <td>0.414286</td>\n",
       "      <td>0.128571</td>\n",
       "      <td>0.500000</td>\n",
       "      <td>1.171429</td>\n",
       "      <td>5.057143</td>\n",
       "      <td>Rodney McGruder</td>\n",
       "      <td>SG</td>\n",
       "      <td>DET</td>\n",
       "    </tr>\n",
       "    <tr>\n",
       "      <th>0</th>\n",
       "      <td>1.525000</td>\n",
       "      <td>0.625000</td>\n",
       "      <td>0.325000</td>\n",
       "      <td>1.375000</td>\n",
       "      <td>2.850000</td>\n",
       "      <td>13.925000</td>\n",
       "      <td>De'Andre Hunter</td>\n",
       "      <td>SF</td>\n",
       "      <td>ATL</td>\n",
       "    </tr>\n",
       "    <tr>\n",
       "      <th>0</th>\n",
       "      <td>1.228571</td>\n",
       "      <td>0.528571</td>\n",
       "      <td>0.142857</td>\n",
       "      <td>0.685714</td>\n",
       "      <td>1.385714</td>\n",
       "      <td>5.871429</td>\n",
       "      <td>Troy Brown Jr.</td>\n",
       "      <td>SF</td>\n",
       "      <td>CHI</td>\n",
       "    </tr>\n",
       "    <tr>\n",
       "      <th>0</th>\n",
       "      <td>4.866667</td>\n",
       "      <td>1.100000</td>\n",
       "      <td>0.433333</td>\n",
       "      <td>2.200000</td>\n",
       "      <td>2.666667</td>\n",
       "      <td>7.266667</td>\n",
       "      <td>Killian Hayes</td>\n",
       "      <td>PG</td>\n",
       "      <td>DET</td>\n",
       "    </tr>\n",
       "    <tr>\n",
       "      <th>0</th>\n",
       "      <td>1.357143</td>\n",
       "      <td>0.814286</td>\n",
       "      <td>0.400000</td>\n",
       "      <td>0.900000</td>\n",
       "      <td>2.100000</td>\n",
       "      <td>8.057143</td>\n",
       "      <td>Dorian Finney-Smith</td>\n",
       "      <td>PF</td>\n",
       "      <td>DAL</td>\n",
       "    </tr>\n",
       "  </tbody>\n",
       "</table>\n",
       "</div>"
      ],
      "text/plain": [
       "        ast       stl       blk       tov        pf        pts  \\\n",
       "0  1.071429  0.414286  0.128571  0.500000  1.171429   5.057143   \n",
       "0  1.525000  0.625000  0.325000  1.375000  2.850000  13.925000   \n",
       "0  1.228571  0.528571  0.142857  0.685714  1.385714   5.871429   \n",
       "0  4.866667  1.100000  0.433333  2.200000  2.666667   7.266667   \n",
       "0  1.357143  0.814286  0.400000  0.900000  2.100000   8.057143   \n",
       "\n",
       "                  name position team  \n",
       "0      Rodney McGruder       SG  DET  \n",
       "0      De'Andre Hunter       SF  ATL  \n",
       "0       Troy Brown Jr.       SF  CHI  \n",
       "0        Killian Hayes       PG  DET  \n",
       "0  Dorian Finney-Smith       PF  DAL  "
      ]
     },
     "execution_count": 4,
     "metadata": {},
     "output_type": "execute_result"
    }
   ],
   "source": [
    "nba.head()"
   ]
  },
  {
   "cell_type": "code",
   "execution_count": 5,
   "metadata": {},
   "outputs": [],
   "source": [
    "# map positions to numbers\n",
    "nba['pos_num'] = nba.position.map({'C':0, 'SF':1, 'PF':1, 'SG':2, 'PG':2})"
   ]
  },
  {
   "cell_type": "code",
   "execution_count": null,
   "metadata": {},
   "outputs": [],
   "source": [
    "nba.columns"
   ]
  },
  {
   "cell_type": "code",
   "execution_count": 6,
   "metadata": {},
   "outputs": [],
   "source": [
    "X = nba[['ast', 'stl', 'blk', 'tov', 'pf']]\n",
    "\n",
    "# create response vector (y)\n",
    "y = nba.pos_num\n"
   ]
  },
  {
   "cell_type": "code",
   "execution_count": 34,
   "metadata": {},
   "outputs": [],
   "source": [
    "from sklearn.preprocessing import StandardScaler\n",
    "\n",
    "scaler = StandardScaler()\n",
    "# # Fit only on X_train\n",
    "# scaler.fit(X_train)\n",
    "\n",
    "# # Scale both X_train and X_test\n",
    "# X_train = scaler.transform(X_train)\n",
    "# X_test = scaler.transform(X_test)\n",
    "\n",
    "scaler.fit(X)\n",
    "\n",
    "# # Scale both X_train and X_test\n",
    "X_scale = scaler.transform(X)\n",
    "# X_test = scaler.transform(X_test)"
   ]
  },
  {
   "cell_type": "code",
   "execution_count": 35,
   "metadata": {},
   "outputs": [
    {
     "data": {
      "text/plain": [
       "array([[-5.13391990e-01, -7.45051391e-01, -7.16730832e-01,\n",
       "        -8.68382146e-01, -7.76875610e-01],\n",
       "       [-2.46465307e-01, -7.82060788e-02, -1.95450951e-01,\n",
       "         3.40620699e-01,  1.72342300e+00],\n",
       "       [-4.20913454e-01, -3.83372578e-01, -6.78819568e-01,\n",
       "        -6.11777460e-01, -4.57688554e-01],\n",
       "       [ 1.72010477e+00,  1.42502149e+00,  9.20428011e-02,\n",
       "         1.48053767e+00,  1.45034074e+00],\n",
       "       [-3.45249198e-01,  5.20824456e-01,  3.58318504e-03,\n",
       "        -3.15695131e-01,  6.06268301e-01],\n",
       "       [-5.16194370e-01,  5.36559886e-02,  7.99719730e-01,\n",
       "         1.90934633e-01,  1.59406422e-01],\n",
       "       [-4.85877715e-01, -4.22436968e-02,  7.27343680e-01,\n",
       "        -6.29721844e-01,  3.21901651e-01],\n",
       "       [ 1.33954159e+00,  3.25580578e-02, -8.45629129e-01,\n",
       "         4.30432339e-01,  1.29615630e-01],\n",
       "       [-4.68883604e-01, -1.38707498e-01, -8.39384921e-01,\n",
       "        -6.40805140e-01, -7.34317336e-01],\n",
       "       [ 5.76302648e-01, -2.54698384e-01, -7.92553360e-01,\n",
       "        -2.20037763e-01, -7.68691327e-01],\n",
       "       [ 5.36695784e-02,  3.01556675e-01,  1.22432589e+00,\n",
       "         2.85351998e-01,  9.48862409e-01],\n",
       "       [ 2.33162010e-01, -9.40295269e-02, -4.94925846e-02,\n",
       "         1.01075370e+00,  3.97732758e-01],\n",
       "       [-7.61402610e-01, -1.34408193e+00, -7.26208648e-01,\n",
       "        -9.72010961e-01, -1.21841770e+00],\n",
       "       [ 4.69542753e-01,  3.17380123e-01,  1.33047743e+00,\n",
       "         5.93935581e-01,  1.71101017e+00],\n",
       "       [ 1.88194221e+00,  1.42502149e+00,  6.99278971e-02,\n",
       "         1.03147947e+00, -1.50914327e-01],\n",
       "       [-3.98494415e-01, -4.73792281e-01,  1.09458512e+00,\n",
       "        -3.00342714e-01,  1.26828590e+00],\n",
       "       [-6.14277666e-01, -6.32026762e-01, -3.94485087e-01,\n",
       "        -6.61124515e-01, -9.57748275e-01],\n",
       "       [ 4.04279637e-01,  7.92083566e-01, -5.06760754e-01,\n",
       "         5.87735566e-01,  9.72924202e-01],\n",
       "       [-3.10219449e-01,  9.11161639e-04,  3.57421649e-01,\n",
       "         3.98192263e-01,  2.83534722e-01],\n",
       "       [-9.84191810e-01, -1.10673020e+00, -9.06287152e-01,\n",
       "        -8.88120968e-01, -1.35141231e+00],\n",
       "       [-3.87284896e-01,  2.49565346e-01, -2.99706927e-01,\n",
       "        -7.30210392e-01, -5.42805102e-01],\n",
       "       [ 1.12692644e-01,  8.46823574e-02, -6.36448155e-01,\n",
       "        -1.85651127e-01,  5.62458313e-01],\n",
       "       [-7.61402610e-01, -1.26496469e+00,  9.98753866e-01,\n",
       "        -1.08437500e-01, -1.14394073e+00],\n",
       "       [-3.90647752e-01, -7.90261243e-01, -5.80250281e-01,\n",
       "        -7.30210392e-01, -7.64108128e-01],\n",
       "       [-4.54542013e-01, -4.28582429e-01, -8.68375888e-01,\n",
       "        -4.53866885e-01, -5.00246828e-01],\n",
       "       [-5.89056247e-01, -6.09421836e-01,  5.53296514e-01,\n",
       "        -7.88292675e-02,  6.48826576e-01],\n",
       "       [-1.72902835e-01,  1.44762642e+00, -1.67017503e-01,\n",
       "        -4.43997474e-01, -7.46640858e-02],\n",
       "       [-4.12506315e-01, -4.73792281e-01,  1.06509858e+00,\n",
       "        -2.95956309e-01,  8.82897084e-01],\n",
       "       [-5.35811029e-01,  5.36559886e-02, -7.92553360e-01,\n",
       "        -7.30210392e-01,  1.04524626e-02],\n",
       "       [-9.67377531e-01, -3.15557800e-01, -6.59863936e-01,\n",
       "        -1.35198328e+00, -1.18117921e+00],\n",
       "       [-1.04584417e+00, -1.84515778e+00,  8.88179346e-01,\n",
       "        -1.09866840e+00, -1.28048185e+00],\n",
       "       [-3.31341384e-02, -7.11144002e-01, -4.94002155e-01,\n",
       "         1.24627841e-02, -3.61932437e-01],\n",
       "       [ 6.65709344e-01,  9.11161639e-04, -5.93519224e-01,\n",
       "         4.78792453e-01,  5.69029811e-01],\n",
       "       [-9.86994190e-01, -1.21221986e+00, -5.27174511e-01,\n",
       "        -9.60496648e-01, -5.35712056e-01],\n",
       "       [ 8.96205089e-01, -5.18336653e-02, -7.33580282e-01,\n",
       "        -1.00761292e-01, -4.19858977e-01],\n",
       "       [-7.82420459e-01, -9.71100649e-01,  7.61808466e-01,\n",
       "        -8.28904502e-01, -1.38501497e-01],\n",
       "       [ 7.29463486e-01,  9.50318047e-01, -4.82944703e-01,\n",
       "         5.82421268e-01,  4.07663022e-01],\n",
       "       [ 2.75488354e+00,  1.74149045e+00,  8.66064442e-01,\n",
       "         2.37865407e+00,  1.63032677e+00],\n",
       "       [-7.51594280e-01, -6.32026762e-01, -6.59863936e-01,\n",
       "        -4.99924136e-01, -7.59142996e-01],\n",
       "       [-3.36077772e-01, -2.43633036e-01,  1.98186187e+00,\n",
       "         1.23942267e-01,  8.50011145e-01],\n",
       "       [ 6.80421839e-01,  4.75614604e-01, -7.92553360e-01,\n",
       "         1.78451552e+00,  9.63757805e-01],\n",
       "       [-7.02552632e-01, -9.48495724e-01, -9.25242784e-01,\n",
       "        -1.07563978e+00, -1.92594901e+00],\n",
       "       [-4.37727734e-01,  7.67739800e-01,  2.48548276e-01,\n",
       "         4.56771479e-02,  2.19104595e-02],\n",
       "       [-1.82711164e-01, -5.79281935e-01, -7.92553360e-01,\n",
       "        -5.45981387e-01, -1.08187658e+00],\n",
       "       [-4.14187743e-01, -8.53555035e-01, -8.98704899e-01,\n",
       "        -8.13113444e-01, -1.21097001e+00],\n",
       "       [ 1.30815493e+00,  1.00306287e+00, -2.61795663e-01,\n",
       "         1.22722279e+00,  1.34580762e-01],\n",
       "       [-5.99565172e-01, -9.48495724e-01, -3.94485087e-01,\n",
       "        -5.92038638e-01, -8.46032806e-01],\n",
       "       [-8.30060917e-01, -1.42319917e+00, -2.39680759e-01,\n",
       "        -5.57495700e-01, -8.21207146e-01],\n",
       "       [-7.51594280e-01, -5.79281935e-01, -4.38714895e-01,\n",
       "        -5.92038638e-01,  5.56616981e-01],\n",
       "       [-4.93178822e-02,  2.64635296e-01, -1.02568354e-01,\n",
       "         1.44877381e-01,  1.79266950e-01],\n",
       "       [-2.80794460e-01,  3.70124950e-01, -1.73336047e-01,\n",
       "        -2.23580628e-01,  1.10278150e+00],\n",
       "       [-6.67777646e-01, -2.43633036e-01, -2.05421648e-02,\n",
       "        -6.67405049e-01,  4.43773073e-01],\n",
       "       [-1.02622751e+00, -1.58143365e+00, -9.25242784e-01,\n",
       "        -1.07563978e+00, -2.22385693e+00],\n",
       "       [ 3.27321974e-01,  2.64635296e-01, -5.27174511e-01,\n",
       "         9.88201301e-02, -8.83271296e-01],\n",
       "       [ 1.03352170e+00,  4.75614604e-01, -6.59863936e-01,\n",
       "        -5.69010013e-01, -1.00739960e+00],\n",
       "       [ 3.67000069e+00,  1.80478424e+00,  1.62810494e-01,\n",
       "         3.96762923e+00,  9.63757805e-01],\n",
       "       [-8.39869246e-01, -1.58143365e+00,  9.20428011e-02,\n",
       "        -6.84153141e-01, -5.85363376e-01],\n",
       "       [-4.04099175e-01,  2.94775198e-01, -1.48061871e-01,\n",
       "        -1.96128016e-02,  9.04176221e-01],\n",
       "       [ 1.83535265e+00,  1.08877322e+00, -2.12037129e-01,\n",
       "         1.17828696e+00,  4.76909525e-02],\n",
       "       [-1.95788937e-01,  2.99798514e-01,  1.21529340e-01,\n",
       "         3.29106386e-01,  5.06965662e-01],\n",
       "       [-9.86994190e-01, -1.21221986e+00, -6.15634128e-01,\n",
       "        -1.00655390e+00, -1.52873845e+00],\n",
       "       [-4.18111074e-01, -7.90261243e-01, -1.05793221e+00,\n",
       "        -1.00655390e+00, -7.34317336e-01],\n",
       "       [-6.95196385e-01, -1.38364055e+00,  9.32409154e-01,\n",
       "         1.85177476e-01,  6.80745281e-01],\n",
       "       [ 8.99771755e-01, -7.32721431e-01, -9.61430809e-01,\n",
       "        -2.67905550e-02, -7.07951518e-02],\n",
       "       [ 4.91220801e-02,  1.19486224e+00, -4.54798462e-01,\n",
       "         3.60147875e-02,  2.00030229e-01],\n",
       "       [-4.52440228e-01, -3.94675041e-01,  2.68962033e-01,\n",
       "        -4.53866885e-01,  1.23932263e+00],\n",
       "       [-3.30727775e-01, -4.22436968e-02, -4.78923812e-01,\n",
       "        -5.04111159e-01, -2.46831650e-01],\n",
       "       [-9.00120414e-01, -1.24235976e+00, -7.16730832e-01,\n",
       "        -1.10524801e+00, -1.05350439e+00],\n",
       "       [-2.41561142e-01, -1.00124055e+00, -9.69472592e-01,\n",
       "        -6.84153141e-01, -1.18117921e+00],\n",
       "       [ 7.62811807e-01,  9.81964943e-01, -4.94925846e-02,\n",
       "         3.47529287e-01,  1.02333939e+00],\n",
       "       [-9.37952542e-01, -1.42319917e+00, -1.05793221e+00,\n",
       "        -1.07563978e+00, -1.70251807e+00],\n",
       "       [ 1.00329203e-01, -2.16937642e-02,  1.10300984e+00,\n",
       "         7.89678898e-01,  1.98941221e+00],\n",
       "       [-8.10444258e-01,  2.64635296e-01, -2.17565855e-01,\n",
       "        -8.45353520e-01, -5.85363376e-01],\n",
       "       [ 1.43893266e+00,  1.41564034e-01, -2.47052394e-01,\n",
       "         1.41145179e+00, -9.16372176e-01],\n",
       "       [-2.08866710e-01, -1.17705664e+00, -1.02844567e+00,\n",
       "        -5.30628970e-01, -1.18117921e+00],\n",
       "       [ 4.94193022e-02,  1.40743988e+00,  1.24201781e+00,\n",
       "         5.82421268e-01,  1.69859734e+00],\n",
       "       [ 3.19492088e+00,  2.30250361e+00, -7.08114635e-01,\n",
       "         2.00810254e+00,  3.35442920e-01],\n",
       "       [-8.10444258e-01, -4.73792281e-01, -8.48764310e-02,\n",
       "        -7.76267643e-01, -2.87455457e-01],\n",
       "       [-2.02327824e-01,  2.15103852e+00,  2.39199282e+00,\n",
       "         1.45615442e+00,  2.03447391e+00],\n",
       "       [ 3.04687367e-01,  3.05208240e-01, -5.76580876e-02,\n",
       "         2.58249077e-01, -2.98913454e-01],\n",
       "       [-4.96577711e-01,  1.10855253e+00, -1.29106239e-01,\n",
       "         9.88201301e-02, -3.91988573e-02],\n",
       "       [ 3.14244201e-01,  2.64635296e-01, -4.68201434e-01,\n",
       "        -2.54285463e-01, -3.86758097e-01],\n",
       "       [-9.96802520e-01, -1.26496469e+00, -1.05793221e+00,\n",
       "        -1.42106916e+00, -2.00042599e+00],\n",
       "       [-3.10219449e-01, -7.90261243e-01, -1.01370240e+00,\n",
       "        -9.60496648e-01, -9.08096956e-01],\n",
       "       [-1.02622751e+00, -2.05613709e+00, -7.92553360e-01,\n",
       "        -1.28289741e+00, -2.07490297e+00],\n",
       "       [-1.28765352e-01, -8.69378483e-01, -9.91587496e-01,\n",
       "        -5.57495700e-01, -1.14394073e+00],\n",
       "       [ 1.13814389e+00,  9.67899656e-01, -3.50255279e-01,\n",
       "         2.03322468e+00,  7.88323141e-01],\n",
       "       [ 4.13635274e-01,  8.97573220e-01,  4.76271053e+00,\n",
       "         1.07523386e+00,  1.97664473e+00],\n",
       "       [ 5.45907604e-01,  6.79058937e-01,  1.25465490e+00,\n",
       "         8.39025953e-01,  1.02121147e+00],\n",
       "       [-2.23790022e-03,  1.86807804e+00, -9.51780669e-01,\n",
       "         1.59170779e-02, -6.74735752e-01],\n",
       "       [-2.51369472e-01, -5.18336653e-02,  1.90546493e+00,\n",
       "         5.13335391e-01,  2.17028488e+00],\n",
       "       [-2.61177801e-01,  2.04355494e-01,  3.06873297e-01,\n",
       "         4.93596569e-01,  6.70105713e-01],\n",
       "       [-7.18396857e-01, -5.22479814e-01, -1.68305725e-02,\n",
       "        -1.88151974e-01,  9.72924202e-01],\n",
       "       [ 6.38386140e-01,  2.49565346e-01, -4.32396351e-01,\n",
       "        -1.38045733e-01, -1.06582791e-01],\n",
       "       [-6.43702655e-01, -3.94675041e-01, -3.28140375e-01,\n",
       "        -1.04109684e+00, -2.50216967e-01],\n",
       "       [-1.14392746e+00,  9.11161639e-04, -6.59863936e-01,\n",
       "        -1.35198328e+00, -1.77699505e+00],\n",
       "       [-6.53510984e-01, -3.68302627e-01,  1.33047743e+00,\n",
       "        -4.53866885e-01,  1.45034074e+00],\n",
       "       [ 7.64493235e-01,  5.05754505e-01, -6.02997040e-01,\n",
       "         7.43621647e-01, -7.41410382e-01],\n",
       "       [ 4.28204046e+00,  7.92083566e-01, -6.33326051e-01,\n",
       "         4.10580099e+00, -4.91291213e-02],\n",
       "       [-4.23015239e-01,  1.59145643e-01,  3.25447408e+00,\n",
       "        -5.22952761e-01,  1.22167932e-01],\n",
       "       [ 1.20026331e+00,  2.47991803e+00,  4.78129931e-02,\n",
       "         9.04822027e-01,  1.82272564e+00],\n",
       "       [ 3.59421961e-01,  1.87915548e-01,  6.79092981e-01,\n",
       "         6.01262871e-01,  3.89607996e-01],\n",
       "       [-5.44727693e-01, -7.32721431e-01, -4.54798462e-01,\n",
       "        -8.43260009e-01, -3.95785609e-01],\n",
       "       [-5.55427689e-01, -7.90261243e-01, -8.58898072e-01,\n",
       "        -4.53866885e-01, -3.61932437e-01],\n",
       "       [-3.93590250e-01,  2.38262883e-01,  2.68962033e-01,\n",
       "         2.97342533e-02,  5.69029811e-01],\n",
       "       [ 1.20660987e+00,  2.89456391e-01,  1.91937055e-02,\n",
       "         1.39113241e+00,  1.27218012e+00],\n",
       "       [ 3.39091969e-01,  9.81964943e-01,  2.68962033e-01,\n",
       "         2.64626235e-01,  6.80745281e-01],\n",
       "       [-9.55607535e-01, -1.48649296e+00, -4.21022972e-01,\n",
       "        -1.14472565e+00, -1.15138842e+00],\n",
       "       [ 2.74017105e+00,  1.50413873e+00, -7.26208648e-01,\n",
       "         2.79316933e+00,  1.96644912e-01],\n",
       "       [-1.64495695e-01,  1.13935791e-01, -9.11949751e-02,\n",
       "         5.62682446e-01,  1.48766854e-01],\n",
       "       [ 4.45021929e-01,  1.10855253e+00, -5.27174511e-01,\n",
       "        -4.07809633e-01, -3.86758097e-01],\n",
       "       [-8.20252587e-01, -6.84771589e-01,  2.52468224e+00,\n",
       "        -4.53866885e-01,  4.07663022e-01],\n",
       "       [-1.27001184e-02,  1.59145643e-01,  3.65991398e+00,\n",
       "         7.58974064e-01,  1.89720262e+00],\n",
       "       [ 3.24558850e+00,  2.70951316e+00, -6.83279716e-01,\n",
       "         2.16326869e+00,  7.37698266e-01],\n",
       "       [-8.88910894e-01,  4.75614604e-01,  1.80502417e-01,\n",
       "        -3.15695131e-01, -3.86758097e-01],\n",
       "       [-7.31977621e-01, -1.10673020e+00, -5.71404320e-01,\n",
       "        -7.53239018e-01, -5.60537716e-01],\n",
       "       [ 2.34843438e-01,  9.72922973e-01, -3.43280790e-02,\n",
       "         1.32262709e+00,  1.26592155e+00],\n",
       "       [ 1.70048811e+00,  2.83155021e+00, -2.59033537e-02,\n",
       "         1.00461274e+00,  1.36758854e+00],\n",
       "       [-4.23015239e-01, -5.92468142e-01, -9.59338831e-02,\n",
       "         2.97342533e-02,  1.20208414e+00],\n",
       "       [-9.00120414e-01, -1.00124055e+00,  2.49308952e+00,\n",
       "        -1.11727304e-01,  6.63012667e-01],\n",
       "       [-4.37727734e-01,  1.59145643e-01, -5.27174511e-01,\n",
       "        -7.99296269e-01, -1.85147203e+00],\n",
       "       [-3.36842058e-01,  1.74215593e-01, -2.99706927e-01,\n",
       "        -3.55172775e-01, -7.46640858e-02],\n",
       "       [-4.67152722e-01,  2.38262883e-01,  4.01651457e-01,\n",
       "        -3.24330866e-01,  7.55222261e-01],\n",
       "       [-8.56216462e-01, -1.28254629e+00, -2.91282202e-01,\n",
       "        -1.26754499e+00, -1.34668361e+00],\n",
       "       [-5.11290205e-01, -8.69378483e-01, -6.59863936e-01,\n",
       "        -1.00655390e+00, -2.87455457e-01],\n",
       "       [-8.20252587e-01, -6.84771589e-01, -3.06025471e-01,\n",
       "        -9.83525274e-01, -9.32922615e-01],\n",
       "       [-2.87203901e-02,  2.23201734e+00, -4.94925846e-02,\n",
       "         3.61346462e-01,  5.83925207e-01],\n",
       "       [ 3.30720863e-02,  5.81104258e-01, -5.27174511e-01,\n",
       "        -3.93516235e-02, -3.91988573e-02],\n",
       "       [-7.05227631e-01, -1.39442926e+00,  6.54967631e-01,\n",
       "        -1.23265313e+00, -1.18117921e+00],\n",
       "       [-9.08527553e-01, -1.26496469e+00, -9.25242784e-01,\n",
       "        -1.14472565e+00, -1.10670224e+00],\n",
       "       [-2.83246543e-01, -2.36440560e-01,  2.59102696e+00,\n",
       "         5.13335391e-01,  3.82837362e-01],\n",
       "       [ 7.58888475e-01,  1.53051114e+00,  8.88179346e-01,\n",
       "         1.54962354e+00,  6.31093961e-01]])"
      ]
     },
     "execution_count": 35,
     "metadata": {},
     "output_type": "execute_result"
    }
   ],
   "source": [
    "X_scale"
   ]
  },
  {
   "cell_type": "markdown",
   "metadata": {},
   "source": [
    "### Train on all the data\n",
    "\n",
    "One method for fitting and evaluating models would be to develop a model that is maximally accurate on our entire dataset and report the accuracy of that model as calculated over the entire dataset. However, this strategy will likely lead to an overly complex model that captures the training data well, but generalizes poorly to new data. For this reason, it is not recommended to train and evaluate models on the same dataset."
   ]
  },
  {
   "cell_type": "code",
   "execution_count": 36,
   "metadata": {},
   "outputs": [
    {
     "data": {
      "text/plain": [
       "array([2, 1, 2, 2, 1, 1, 0, 2, 2, 2, 1, 1, 1, 1, 2, 0, 2, 2, 1, 1, 1, 1,\n",
       "       0, 2, 2, 0, 1, 0, 1, 2, 0, 2, 2, 1, 2, 0, 2, 2, 2, 0, 2, 2, 1, 2,\n",
       "       2, 2, 2, 1, 1, 1, 1, 1, 1, 2, 2, 2, 0, 1, 2, 1, 1, 2, 0, 2, 1, 0,\n",
       "       2, 1, 2, 2, 1, 0, 1, 2, 2, 0, 2, 1, 0, 1, 1, 2, 1, 2, 1, 2, 2, 0,\n",
       "       1, 2, 0, 1, 1, 2, 1, 2, 0, 2, 2, 0, 2, 1, 2, 2, 1, 2, 2, 1, 2, 1,\n",
       "       2, 0, 0, 2, 1, 2, 2, 2, 1, 0, 2, 1, 1, 1, 2, 2, 2, 2, 0, 1, 0, 2])"
      ]
     },
     "execution_count": 36,
     "metadata": {},
     "output_type": "execute_result"
    }
   ],
   "source": [
    "# import the class\n",
    "from sklearn.neighbors import KNeighborsClassifier\n",
    "\n",
    "# instantiate the model\n",
    "knn = KNeighborsClassifier(n_neighbors=10)\n",
    "\n",
    "# train the model on the entire dataset\n",
    "knn.fit(X_scale, y)\n",
    "\n",
    "# predict the response values for the observations in X (\"test the model\")\n",
    "knn.predict(X_scale)"
   ]
  },
  {
   "cell_type": "code",
   "execution_count": 37,
   "metadata": {},
   "outputs": [],
   "source": [
    "# store the predicted response values\n",
    "y_pred_class = knn.predict(X_scale)"
   ]
  },
  {
   "cell_type": "code",
   "execution_count": 38,
   "metadata": {},
   "outputs": [
    {
     "name": "stdout",
     "output_type": "stream",
     "text": [
      "0.7196969696969697\n"
     ]
    }
   ],
   "source": [
    "print (accuracy_score(y, y_pred_class))"
   ]
  },
  {
   "cell_type": "markdown",
   "metadata": {},
   "source": [
    "This is known as training accuracy because we are evaluating the model on the same data we used to train the model.\n",
    "\n"
   ]
  },
  {
   "cell_type": "markdown",
   "metadata": {},
   "source": [
    "KNN(k=1)"
   ]
  },
  {
   "cell_type": "code",
   "execution_count": 39,
   "metadata": {},
   "outputs": [
    {
     "name": "stdout",
     "output_type": "stream",
     "text": [
      "1.0\n"
     ]
    }
   ],
   "source": [
    "knn = KNeighborsClassifier(n_neighbors=1)\n",
    "knn.fit(X_scale, y)\n",
    "y_pred_class = knn.predict(X_scale)\n",
    "print (accuracy_score(y, y_pred_class))\n",
    "#See also https://medium.com/analytics-vidhya/prediction-and-data-visualization-of-breast-cancer-using-k-nearest-neighbor-knn-classifier-df7adadc4872"
   ]
  },
  {
   "cell_type": "code",
   "execution_count": null,
   "metadata": {},
   "outputs": [],
   "source": []
  },
  {
   "cell_type": "code",
   "execution_count": 41,
   "metadata": {},
   "outputs": [
    {
     "data": {
      "text/plain": [
       "Text(0.5, 1.0, 'KNN Decision Region Boundary, k=20')"
      ]
     },
     "execution_count": 41,
     "metadata": {},
     "output_type": "execute_result"
    },
    {
     "data": {
      "image/png": "[encoded data removed]",
      "text/plain": [
       "<Figure size 640x480 with 1 Axes>"
      ]
     },
     "metadata": {},
     "output_type": "display_data"
    }
   ],
   "source": [
    "# Plotting decision regions\n",
    "#plot_decision_regions(X[['ast', 'stl']].values, y.values, clf=knn, legend=2)\n",
    "# plot_decision_regions(X.values, y.values, clf=knn, legend=2)\n",
    "\n",
    "# # Adding axes annotations\n",
    "# plt.xlabel('sepal length [cm]')\n",
    "# plt.ylabel('petal length [cm]')\n",
    "# plt.title('SVM on Iris')\n",
    "# plt.show()\n",
    "\n",
    "\n",
    "#from mlxtend.plotting import plot_decision_regions\n",
    "neighbors = 20\n",
    "#clf = SVC(C=100,gamma=0.0001)\n",
    "pca = PCA(n_components = 2)\n",
    "X2 = pca.fit_transform(X_scale)\n",
    "knn = KNeighborsClassifier(n_neighbors=neighbors)\n",
    "knn.fit(X2, y)\n",
    "plot_decision_regions(X2, y.values, clf=knn, legend=1)\n",
    "\n",
    "# plt.xlabel(X.columns[0], size=14)\n",
    "# plt.ylabel(X.columns[1], size=14)\n",
    "plt.xlabel('PC 1')\n",
    "plt.ylabel('PC 2')\n",
    "plt.title(f'KNN Decision Region Boundary, k={neighbors}', size=16)"
   ]
  },
  {
   "cell_type": "code",
   "execution_count": null,
   "metadata": {},
   "outputs": [],
   "source": [
    "import numpy as np\n",
    "import matplotlib.pyplot as plt\n",
    "from matplotlib.colors import ListedColormap\n",
    "from sklearn import neighbors, datasets\n",
    "\n",
    "n_neighbors = 15\n",
    "\n",
    "# import some data to play with\n",
    "iris = datasets.load_iris()\n",
    "X = iris.data[:, :2]  # we only take the first two features. We could\n",
    "                      # avoid this ugly slicing by using a two-dim dataset\n",
    "y = iris.target\n",
    "\n",
    "h = .02  # step size in the mesh\n",
    "\n",
    "# Create color maps\n",
    "cmap_light = ListedColormap(['#FFAAAA', '#AAFFAA', '#AAAAFF'])\n",
    "cmap_bold = ListedColormap(['#FF0000', '#00FF00', '#0000FF'])\n",
    "\n",
    "for weights in ['uniform', 'distance']:\n",
    "    # we create an instance of Neighbours Classifier and fit the data.\n",
    "    clf = neighbors.KNeighborsClassifier(n_neighbors, weights=weights)\n",
    "    clf.fit(X, y)\n",
    "\n",
    "    # Plot the decision boundary. For that, we will assign a color to each\n",
    "    # point in the mesh [x_min, x_max]x[y_min, y_max].\n",
    "    x_min, x_max = X[:, 0].min() - 1, X[:, 0].max() + 1\n",
    "    y_min, y_max = X[:, 1].min() - 1, X[:, 1].max() + 1\n",
    "    xx, yy = np.meshgrid(np.arange(x_min, x_max, h),\n",
    "                         np.arange(y_min, y_max, h))\n",
    "    Z = clf.predict(np.c_[xx.ravel(), yy.ravel()])\n",
    "\n",
    "    # Put the result into a color plot\n",
    "    Z = Z.reshape(xx.shape)\n",
    "    plt.figure()\n",
    "    plt.pcolormesh(xx, yy, Z, cmap=cmap_light)\n",
    "\n",
    "    # Plot also the training points\n",
    "    plt.scatter(X[:, 0], X[:, 1], c=y, cmap=cmap_bold)\n",
    "    plt.xlim(xx.min(), xx.max())\n",
    "    plt.ylim(yy.min(), yy.max())\n",
    "    plt.title(\"3-Class classification (k = %i, weights = '%s')\"\n",
    "              % (n_neighbors, weights))\n",
    "\n",
    "plt.show()"
   ]
  },
  {
   "cell_type": "code",
   "execution_count": null,
   "metadata": {},
   "outputs": [],
   "source": [
    "n_neighbors = 15\n",
    "\n",
    "# import some data to play with\n",
    "iris = datasets.load_iris()\n",
    "X = iris.data[:, :2]  # we only take the first two features. We could\n",
    "                      # avoid this ugly slicing by using a two-dim dataset\n",
    "y = iris.target\n",
    "\n",
    "h = .02  # step size in the mesh\n",
    "\n",
    "# Create color maps\n",
    "cmap_light = ListedColormap(['#FFAAAA', '#AAFFAA', '#AAAAFF'])\n",
    "cmap_bold = ListedColormap(['#FF0000', '#00FF00', '#0000FF'])\n",
    "\n",
    "for weights in ['uniform', 'distance']:\n",
    "    # we create an instance of Neighbours Classifier and fit the data.\n",
    "    clf = neighbors.KNeighborsClassifier(n_neighbors, weights=weights)\n",
    "    clf.fit(X, y)\n",
    "\n",
    "    # Plot the decision boundary. For that, we will assign a color to each\n",
    "    # point in the mesh [x_min, x_max]x[y_min, y_max].\n",
    "    x_min, x_max = X[:, 0].min() - 1, X[:, 0].max() + 1\n",
    "    y_min, y_max = X[:, 1].min() - 1, X[:, 1].max() + 1\n",
    "    xx, yy = np.meshgrid(np.arange(x_min, x_max, h),\n",
    "                         np.arange(y_min, y_max, h))\n",
    "    Z = clf.predict(np.c_[xx.ravel(), yy.ravel()])\n",
    "\n",
    "    # Put the result into a color plot\n",
    "    Z = Z.reshape(xx.shape)\n",
    "    plt.figure()\n",
    "    plt.pcolormesh(xx, yy, Z, cmap=cmap_light)\n",
    "\n",
    "    # Plot also the training points\n",
    "    plt.scatter(X[:, 0], X[:, 1], c=y, cmap=cmap_bold)\n",
    "    plt.xlim(xx.min(), xx.max())\n",
    "    plt.ylim(yy.min(), yy.max())\n",
    "    plt.title(\"3-Class classification (k = %i, weights = '%s')\"\n",
    "              % (n_neighbors, weights))\n",
    "\n",
    "plt.show()"
   ]
  },
  {
   "cell_type": "code",
   "execution_count": null,
   "metadata": {},
   "outputs": [],
   "source": [
    "X"
   ]
  },
  {
   "cell_type": "markdown",
   "metadata": {},
   "source": [
    "### Train/Test Splits\n",
    "One alternative approach is to partition your dataset into two subsets. You train your model on one subset (ie., the training set) and evaluate your model in the other (i.e., the test set). The model's performance on the test set is referred to as the **testing accuracy** because we are evaluating the model on an (in theory) independent dataset that was not used during model training. For this reason, testing accuracy is usually a better estimate of out-of-sample performance than training accuracy.\n",
    "\n",
    "We can use the built-in functionality in scikit learn to split our data into training and testing sets. For this section of the workshop, we will work with a new dataset. "
   ]
  },
  {
   "cell_type": "code",
   "execution_count": null,
   "metadata": {},
   "outputs": [],
   "source": [
    "#https://github.com/justmarkham/DAT8/blob/master/notebooks/20_regularization.ipynb\n",
    "url = 'http://archive.ics.uci.edu/ml/machine-learning-databases/communities/communities.data'\n",
    "crime = pd.read_csv(url, header=None, na_values=['?'])\n",
    "\n",
    "\n",
    "\n",
    "crime.head()\n"
   ]
  },
  {
   "cell_type": "code",
   "execution_count": null,
   "metadata": {},
   "outputs": [],
   "source": [
    "crime.drop([0, 1, 2, 3, 4], axis=1, inplace=True)\n",
    "crime.dropna(inplace=True)\n",
    "\n",
    "# define X and y\n",
    "X = crime.drop(127, axis=1)\n",
    "y = crime[127]\n",
    "X_train, X_test, y_train, y_test = train_test_split(X, y, random_state=1)"
   ]
  },
  {
   "cell_type": "code",
   "execution_count": null,
   "metadata": {},
   "outputs": [],
   "source": []
  },
  {
   "cell_type": "code",
   "execution_count": null,
   "metadata": {},
   "outputs": [],
   "source": [
    "from sklearn.datasets import make_classification\n",
    "from sklearn.model_selection import train_test_split\n",
    "from sklearn.svm import SVC\n",
    "from sklearn.metrics import confusion_matrix\n",
    "\n",
    "X, y = make_classification()\n",
    "X_train, X_test, y_train, y_test = train_test_split(X, y, test_size=0.2, stratify=y)\n",
    "clf = SVC().fit(X_train, y_train)\n",
    "confusion_matrix(y_test, clf.predict(X_test))"
   ]
  },
  {
   "cell_type": "markdown",
   "metadata": {},
   "source": [
    "|            | predicted true | predicted false |\n",
    "|------------|----------------|-----------------|\n",
    "|actual true |        10      |        0        |\n",
    "|actual false|         1      |        9        |"
   ]
  }
 ],
 "metadata": {
  "kernelspec": {
   "display_name": "Python 3 (ipykernel)",
   "language": "python",
   "name": "python3"
  },
  "language_info": {
   "codemirror_mode": {
    "name": "ipython",
    "version": 3
   },
   "file_extension": ".py",
   "mimetype": "text/x-python",
   "name": "python",
   "nbconvert_exporter": "python",
   "pygments_lexer": "ipython3",
   "version": "3.8.5"
  }
 },
 "nbformat": 4,
 "nbformat_minor": 2
}
