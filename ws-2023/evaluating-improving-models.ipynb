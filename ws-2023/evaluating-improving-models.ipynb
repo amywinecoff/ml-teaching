{
 "cells": [
  {
   "cell_type": "code",
   "execution_count": 26,
   "metadata": {},
   "outputs": [],
   "source": [
    "import numpy as np\n",
    "from sklearn.dummy import DummyClassifier\n",
    "from sklearn.metrics import confusion_matrix\n",
    "from sklearn.metrics import precision_score, recall_score, f1_score, accuracy_score, mean_absolute_error,mean_squared_error \n",
    "from sklearn.metrics import precision_recall_curve\n",
    "import matplotlib.pyplot as plt\n",
    "\n",
    "import pandas as pd\n",
    "\n",
    "# import matplotlib.pyplot as plt\n",
    "# import pandas as pd\n",
    "# from sklearn import datasets, neighbors\n",
    "from mlxtend.plotting import plot_decision_regions\n",
    "from sklearn.decomposition import PCA"
   ]
  },
  {
   "cell_type": "markdown",
   "metadata": {},
   "source": [
    "From ML with R\n",
    "\"The goal of evaluating a classification model is to have a better understanding of how its performance with extrapolate to future cases. SInce it is usually not feasible to test a still unprove model in a live, environment, we typically simulate fugure conditions by asking the model to classify a dataset made of cases that resimble what it woll be asked to do in the future. By observing the learner's responses to this examination, we can learn abou tits strenghts ans weaknesses\"\n",
    "\n",
    "We accomplish this by comparing the model's predicted class values to the actual class values "
   ]
  },
  {
   "cell_type": "markdown",
   "metadata": {},
   "source": [
    "This tutorial draws code and content from Kevin Markham's General Assembly data science course https://github.com/justmarkham/DAT8, maykulkarni's machine learning notebooks repo [https://github.com/maykulkarni] \n",
    "\n",
    "Content is also drawn from An Introduction to Statistical Learning, Applied Predictive Modeling, and Machine Learning with R\n"
   ]
  },
  {
   "cell_type": "markdown",
   "metadata": {},
   "source": [
    "# Part I: Metrics"
   ]
  },
  {
   "cell_type": "markdown",
   "metadata": {},
   "source": [
    "### Classification Metrics\n",
    "**Accuracy** is the number of correct predictions divided by the total number of predictions made\n",
    "\n",
    "<br/><br/>\n",
    "\n",
    "$$\\text{Accuracy} = \\frac{\\text{# Correct Predictions}}{\\text{Total # of Predictions}}$$\n",
    "\n",
    "<br/><br/>\n",
    "\n",
    "Imagine that we are trying to build a model to filter out spam email. The following data contains the text of email messages along with their actual type (i.e., label). \"Ham\" messages constitute real email messages whereas \"spam\" messages are, well, spam.  "
   ]
  },
  {
   "cell_type": "code",
   "execution_count": null,
   "metadata": {},
   "outputs": [],
   "source": [
    "#Data from https://github.com/PacktPublishing/Machine-Learning-with-R-Third-Edition\n",
    "spam_ham = pd.read_csv('sms_spam.csv')\n",
    "spam_ham = spam_ham[['type']]\n",
    "spam_ham.head()"
   ]
  },
  {
   "cell_type": "markdown",
   "metadata": {},
   "source": [
    "If we have a quick look at the type column, we can see that most messages are ham."
   ]
  },
  {
   "cell_type": "code",
   "execution_count": null,
   "metadata": {},
   "outputs": [],
   "source": [
    "counts_df = spam_ham [['type']].groupby(['type']).size().reset_index(name='outcome_counts')\n",
    "\n",
    "counts_df['percentage'] = counts_df['outcome_counts'] / counts_df['outcome_counts'].sum()\n",
    "\n",
    "counts_df"
   ]
  },
  {
   "cell_type": "code",
   "execution_count": null,
   "metadata": {},
   "outputs": [],
   "source": [
    "t= np.zeros(spam_ham.size)\n",
    "t.size"
   ]
  },
  {
   "cell_type": "markdown",
   "metadata": {},
   "source": [
    "Using this data, we can build a very simple classifier, which just predicts the majority class. In other words, the classifier will always predict \"ham.\"  "
   ]
  },
  {
   "cell_type": "code",
   "execution_count": null,
   "metadata": {},
   "outputs": [],
   "source": [
    "dummy_clf = DummyClassifier(strategy=\"most_frequent\")\n",
    "#dummy_clf = DummyClassifier(strategy=\"stratified\")\n",
    "#Note, by definition, the features are ignored in this model\n",
    "dummy_clf.fit(np.zeros(spam_ham.size), spam_ham[['type']])\n",
    "#dummy_clf.fit(spam_ham[['text']], spam_ham[['type']])\n",
    "dummy_predictions = dummy_clf.predict(np.zeros(spam_ham.size))\n",
    "\n",
    "accuracy = round(accuracy_score(spam_ham[['type']], dummy_predictions),2)\n",
    "print(f'Accuracy of majority class model is: {accuracy}')"
   ]
  },
  {
   "cell_type": "markdown",
   "metadata": {},
   "source": [
    "Judging by overall accuracy alone, we might conclude that the dummy classifier is doing a decent job. But of course, this is is not a good model since it never predicts \"spam,\" which is what we are actually trying to get the model to do correctly."
   ]
  },
  {
   "cell_type": "markdown",
   "metadata": {},
   "source": [
    "A **confusion matrix** is used for classification models. It allows us to break down our results in terms of true positives, true negatives, false positives, and false negatives. This gives us a better sense of the kinds of errors our model is making\n",
    "<br/><br/>\n",
    "\n",
    "|            | Predicted true | Predicted false |\n",
    "|------------|----------------|-----------------|\n",
    "|Actual true | True Positive  | False Negative  |\n",
    "|Actual false| False Positive | True Negative   |\n",
    "\n",
    "<br/><br/>\n",
    "\n",
    "Accordingly, we can reframe our formula for accuracy as\n",
    "\n",
    "$$\\text{Accuracy} = \\frac{TP + TN}{TP + TN + FP + FN}$$\n",
    "<br/><br/>\n",
    "\n",
    "We can create a confusion matrix from our majority class model"
   ]
  },
  {
   "cell_type": "code",
   "execution_count": null,
   "metadata": {},
   "outputs": [],
   "source": [
    "cm = confusion_matrix(spam_ham[['type']], dummy_predictions)\n",
    "\n",
    "#need to flip so spam is the positive case\n",
    "cm = np.flip(cm)\n",
    "\n",
    "\n",
    "cm_df = pd.DataFrame(cm, \n",
    "               columns=['predicted_spam', 'predicted_ham'], \n",
    "               index = ['actual_spam', 'actual_ham'])\n",
    "\n",
    "\n",
    "\n",
    "cm_df"
   ]
  },
  {
   "cell_type": "markdown",
   "metadata": {},
   "source": [
    "In this case, we'll consider \"spam\" the positive case since that is what we are trying to detect. So, cases where the model predicted \"ham\" but the message was actually \"spam\" are false negatives. We have 747 of these cases.\n",
    "\n",
    "Because the dummy classifier always predicts \"ham,\" there are no cases where the model predicted \"spam\" and the actual outcome was \"ham;\" however, if it had, those would constitute false positives.\n",
    "\n",
    "Even though our model performed well in terms of overall accuracy, we can see from the confusion matrix that it performed abysmally in terms of false negatives. In machine learning, overall accuracy provides a poor measure of a model's performance when we have a \"class imbalance,\" meaning one label occurs much more frequently than the other(s). \n",
    "\n"
   ]
  },
  {
   "cell_type": "markdown",
   "metadata": {},
   "source": [
    "Often with machine learning, we neither want a model that is too conservative in predicting the positive class nor too aggressive. Two metrics that help us assess this are precision and recall\n",
    "\n",
    "<br/><br/>\n",
    "**Precision** captures what proportion of the model's prediction of the positive class actually belong to the positive class \n",
    "\n",
    "$$\\text{Precision} = \\frac{TP}{TP + FP}$$\n",
    "\n",
    "<br/><br/>\n",
    "\n",
    "**Recall** captures the proportion of cases that actually belong to the positive class were predicted as positive by the model. \n",
    "\n",
    "$$\\text{Recall} = \\frac{TP}{TP + FN}$$\n",
    "\n",
    "\n",
    "<br/><br/>\n",
    "A precise model will only predict the positive class when the example is very likely to be positive. A model that has high recall will capture a large proportion of the actual positive examples. \n",
    "\n",
    "We will calculate precision and recall for our dummy classifier, but first we need to do some minor modifications on our predictions to make this possible. If we attempt to calculate these metrics from just the majority class predictions, we'll get into some divide by zero issues for precision since we have no spam predictions. \n",
    "\n",
    "I'll demonstrate this below, just to show you. "
   ]
  },
  {
   "cell_type": "code",
   "execution_count": null,
   "metadata": {},
   "outputs": [],
   "source": [
    "TP = cm_df.loc['actual_spam', 'predicted_spam']\n",
    "TN = cm_df.loc['actual_ham', 'predicted_ham']\n",
    "FP = cm_df.loc['actual_ham', 'predicted_spam']\n",
    "FN = cm_df.loc['actual_spam', 'predicted_ham']\n",
    "\n",
    "print (f'Precision is {TP/(TP + FP)}')\n",
    "print (f'Recall is {TP/(TP + FN)}')"
   ]
  },
  {
   "cell_type": "markdown",
   "metadata": {},
   "source": [
    "Okay. For illustrative purposes, we'll add a few additional observations to our dataset that will allow us to calculate these metrics."
   ]
  },
  {
   "cell_type": "code",
   "execution_count": null,
   "metadata": {},
   "outputs": [],
   "source": [
    "new_data = pd.DataFrame(['spam', 'spam', 'spam', 'spam', \n",
    "                         'spam', 'spam', 'ham', 'ham'], columns=['type'])\n",
    "\n",
    "\n",
    "new_predictions = np.array(['spam', 'spam', 'spam', 'spam', \n",
    "                                'spam', 'spam', 'spam', 'spam'])\n",
    "\n",
    "new_spam_ham = pd.concat([spam_ham, new_data], ignore_index=True)\n",
    "new_dummy_predictions = np.append(dummy_predictions, new_predictions)\n",
    "\n",
    "new_cm = confusion_matrix(new_spam_ham[['type']], new_dummy_predictions)\n",
    "\n",
    "#need to flip so spam is the positive case\n",
    "new_cm = np.flip(new_cm)\n",
    "\n",
    "\n",
    "new_cm_df = pd.DataFrame(new_cm, \n",
    "               columns=['predicted_spam', 'predicted_ham'], \n",
    "               index = ['actual_spam', 'actual_ham'])\n",
    "\n",
    "\n",
    "\n",
    "new_cm_df\n"
   ]
  },
  {
   "cell_type": "markdown",
   "metadata": {},
   "source": [
    "Our new confusion matrix reveals that we have 6 true positives, 4812 true negatives, 2 false positives, and 747 false negatives. With these, we can now calculate precision and recall."
   ]
  },
  {
   "cell_type": "code",
   "execution_count": null,
   "metadata": {},
   "outputs": [],
   "source": [
    "TP = new_cm_df.loc['actual_spam', 'predicted_spam']\n",
    "TN = new_cm_df.loc['actual_ham', 'predicted_ham']\n",
    "FP = new_cm_df.loc['actual_ham', 'predicted_spam']\n",
    "FN = new_cm_df.loc['actual_spam', 'predicted_ham']\n",
    "\n",
    "dc_precision = TP/(TP + FP)\n",
    "dc_recall = TP/(TP + FN)\n",
    "\n",
    "print (f'Precision is {dc_precision}')\n",
    "print (f'Recall is {dc_recall}')\n"
   ]
  },
  {
   "cell_type": "markdown",
   "metadata": {},
   "source": [
    "Precision is better than recall. Why is this? We have designed our dummy classifier so that it almost never predicts \"spam.\" The data we added contained only 8 predictions of \"spam,\" 6 of which were correct (6/8 = 0.75). So, when our dummy model does predict the positive class (i.e., \"spam\"), it does a pretty decent job. It's a reasonably precise model.\n",
    "\n",
    "What our model does not do well is cover all the actual instances of spam in the dataset. This is captured in our recall measure, which is very low. Again, this is because our model is not capable of capturing (i.e., correctly predicting) most of the actual spam examples.\n",
    "\n",
    "Precision and recall can tell us a lot about how our model is performing, but it's nice to have a single summary statistic as well. The F1 Score or F-measure, which combines precision and recall using the harmonic mean."
   ]
  },
  {
   "cell_type": "markdown",
   "metadata": {},
   "source": [
    "**F1 score** is the harmonic mean of precision and recall. \n",
    "\n",
    "\n",
    "$$\\text{F}_1 = 2 \\cdot \\frac{\\text{precision} \\cdot \\text{recall}}{\\text{precision} + \\text{recall}}$$"
   ]
  },
  {
   "cell_type": "code",
   "execution_count": null,
   "metadata": {},
   "outputs": [],
   "source": [
    "dc_F1 = 2* ((dc_precision*dc_recall)/(dc_precision + dc_recall))\n",
    "print(f'F1 is: {dc_F1}')"
   ]
  },
  {
   "cell_type": "markdown",
   "metadata": {},
   "source": [
    "Note, we can also calculate all these metrics using the metrics functionality of scikit learn. We just need to convert our classes to binary first."
   ]
  },
  {
   "cell_type": "code",
   "execution_count": null,
   "metadata": {},
   "outputs": [],
   "source": [
    "new_spam_ham['pos_case'] = np.where(new_spam_ham['type']== 'spam', 1, 0)\n",
    "new_dummy_predictions_binary = np.where(new_dummy_predictions == \"spam\", 1,0)\n",
    "f1_score(new_spam_ham[['pos_case']], new_dummy_predictions_binary)\n"
   ]
  },
  {
   "cell_type": "markdown",
   "metadata": {},
   "source": [
    "There are many other metrics for evaluating classification models. Techniques that may be a particular help for visualizing results are precision recall curves or receiver operating characteristic (ROC) curves. You can learn more about these techniques here [INSERT LINK]"
   ]
  },
  {
   "cell_type": "markdown",
   "metadata": {},
   "source": [
    "### Regression Metrics\n",
    "\n",
    "So far we have only discussed metrics for evaluating classification models, but of course, there are metrics for evaluating regression models as well. Several metrics that are commonly used include mean absolute error, mean squared error, and root mean squared error. In the formulas below, $y_i$ is the actual value for observation i and $\\hat{y}_i$ is the predicted value for observation i"
   ]
  },
  {
   "cell_type": "markdown",
   "metadata": {},
   "source": [
    "**Mean Absolute Error** (MAE) is the mean of the absolute value of the errors:\n",
    "\n",
    "$$\\frac 1n\\sum_{i=1}^n|y_i-\\hat{y}_i|$$\n",
    " \n",
    "**Mean Squared Error** (MSE) is the mean of the squared errors:\n",
    "\n",
    "$$\\frac 1n\\sum_{i=1}^n(y_i-\\hat{y}_i)^2$$\n",
    "\n",
    "**Root Mean Squared Error** (RMSE) is the square root of the mean of the squared errors:\n",
    "\n",
    "$$\\sqrt{\\frac 1n\\sum_{i=1}^n(y_i-\\hat{y}_i)^2}$$\n",
    "\n",
    "\n",
    "\n"
   ]
  },
  {
   "cell_type": "markdown",
   "metadata": {},
   "source": [
    "Introduce LASSO? Do the overfitting bit and then move on to regression metrics? Need to include some kind of model data here to build things out. Possibly use the same basketball data?"
   ]
  },
  {
   "cell_type": "code",
   "execution_count": null,
   "metadata": {},
   "outputs": [],
   "source": [
    "# # import numpy as np\n",
    "# print ('MAE:', metrics.mean_absolute_error(true, pred))\n",
    "# print ('MSE:', metrics.mean_squared_error(true, pred))\n",
    "# print ('RMSE:', np.sqrt(metrics.mean_squared_error(true, pred)))\n",
    "\n",
    "#steal some stuff from this: https://github.com/justmarkham/DAT8/blob/master/other/model_evaluation_comparison.md"
   ]
  },
  {
   "cell_type": "markdown",
   "metadata": {},
   "source": [
    "## Evaluation Paradigms"
   ]
  },
  {
   "cell_type": "markdown",
   "metadata": {},
   "source": [
    "<font size=\"1\"> *Source note: This next section of the workshop notebook is takes sections, some nearly verbatim, from [this notebook](https://github.com/justmarkham/DAT8/blob/master/notebooks/09_model_evaluation.ipynb) because it contains one of the best explainations of evaluation paradigms I've come across.* </font>"
   ]
  },
  {
   "cell_type": "markdown",
   "metadata": {},
   "source": [
    "Thus far, we have discussed evaluation without diving into which data metrics are calculated on. In machine learning, we train a model on one dataset with the goal of making accurate predictions in another dataset. In other words, we aim to create a model that has good generalization. Our evaluation metrics should ideally give us a good sense of how well our model would perform on new data. We will explore several different strategies for training and evaluating models that have different implications for generalization (some good and some not so good).\n",
    "\n",
    "First, let's load some new data.\n",
    "\n",
    "From the blog post: \"Now we’re ready to prepare our training data. To do this, we’ll take the per-season, average stats. We’ll sum this and then divide by seasons played. This will give us per-game averages. We use per-game averages because it factors career-length into the model. In other words, if a player scored 2,000 career assists, it matters whether that player accomplished it within seven years or 15 years in the league, as it will show how efficient they were in their respective position.\n",
    "\n",
    "So for example, if a player averaged 15 points per game in their first season, and 20 points per game in their second season, we’ll sum 15 and 20 to get 35, then divide by 2 seasons played to get a career average points-per-game of 17.5.\"\n",
    "\n",
    "AST - Assists\n",
    "\n",
    "\n",
    "\n"
   ]
  },
  {
   "cell_type": "markdown",
   "metadata": {},
   "source": [
    "Going to attempt to adapt what Brian has already done for continuity. Either attempt to use the same regression example or predict whether red or white?"
   ]
  },
  {
   "cell_type": "code",
   "execution_count": null,
   "metadata": {},
   "outputs": [],
   "source": [
    "# download wine datasets, load directly into a Pandas DataFrame\n",
    "url_red = 'https://archive.ics.uci.edu/ml/machine-learning-databases/wine-quality/winequality-red.csv'\n",
    "url_white = 'https://archive.ics.uci.edu/ml/machine-learning-databases/wine-quality/winequality-white.csv'\n",
    "# these data are in text tables in which the separation of columns is indicated with a semicolon \";\" \n",
    "red_df = pd.read_csv(url_red, sep=\";\")\n",
    "white_df = pd.read_csv(url_white, sep=\";\")"
   ]
  },
  {
   "cell_type": "code",
   "execution_count": 2,
   "metadata": {},
   "outputs": [],
   "source": [
    "nba = pd.DataFrame(columns = ['ast','stl','blk','tov','pf','pts', \n",
    "                                             'name', 'position', 'team'])"
   ]
  },
  {
   "cell_type": "code",
   "execution_count": 3,
   "metadata": {},
   "outputs": [],
   "source": [
    "import glob, os\n",
    "csv_files = []\n",
    "os.chdir(\"/Users/amywinecoff/Documents/CITP/Research/Github/ml-teaching/basketball_reference_scraper/data/players\")\n",
    "for file in glob.glob(\"*.csv\"):\n",
    "    csv_files.append(file)\n",
    "\n",
    "for csv in csv_files:\n",
    "    d = pd.read_csv(csv)\n",
    "    nba = pd.concat([nba, d], axis=0)"
   ]
  },
  {
   "cell_type": "code",
   "execution_count": 4,
   "metadata": {},
   "outputs": [
    {
     "data": {
      "text/html": [
       "<div>\n",
       "<style scoped>\n",
       "    .dataframe tbody tr th:only-of-type {\n",
       "        vertical-align: middle;\n",
       "    }\n",
       "\n",
       "    .dataframe tbody tr th {\n",
       "        vertical-align: top;\n",
       "    }\n",
       "\n",
       "    .dataframe thead th {\n",
       "        text-align: right;\n",
       "    }\n",
       "</style>\n",
       "<table border=\"1\" class=\"dataframe\">\n",
       "  <thead>\n",
       "    <tr style=\"text-align: right;\">\n",
       "      <th></th>\n",
       "      <th>ast</th>\n",
       "      <th>stl</th>\n",
       "      <th>blk</th>\n",
       "      <th>tov</th>\n",
       "      <th>pf</th>\n",
       "      <th>pts</th>\n",
       "      <th>name</th>\n",
       "      <th>position</th>\n",
       "      <th>team</th>\n",
       "    </tr>\n",
       "  </thead>\n",
       "  <tbody>\n",
       "    <tr>\n",
       "      <th>0</th>\n",
       "      <td>1.071429</td>\n",
       "      <td>0.414286</td>\n",
       "      <td>0.128571</td>\n",
       "      <td>0.500000</td>\n",
       "      <td>1.171429</td>\n",
       "      <td>5.057143</td>\n",
       "      <td>Rodney McGruder</td>\n",
       "      <td>SG</td>\n",
       "      <td>DET</td>\n",
       "    </tr>\n",
       "    <tr>\n",
       "      <th>0</th>\n",
       "      <td>1.525000</td>\n",
       "      <td>0.625000</td>\n",
       "      <td>0.325000</td>\n",
       "      <td>1.375000</td>\n",
       "      <td>2.850000</td>\n",
       "      <td>13.925000</td>\n",
       "      <td>De'Andre Hunter</td>\n",
       "      <td>SF</td>\n",
       "      <td>ATL</td>\n",
       "    </tr>\n",
       "    <tr>\n",
       "      <th>0</th>\n",
       "      <td>1.228571</td>\n",
       "      <td>0.528571</td>\n",
       "      <td>0.142857</td>\n",
       "      <td>0.685714</td>\n",
       "      <td>1.385714</td>\n",
       "      <td>5.871429</td>\n",
       "      <td>Troy Brown Jr.</td>\n",
       "      <td>SF</td>\n",
       "      <td>CHI</td>\n",
       "    </tr>\n",
       "    <tr>\n",
       "      <th>0</th>\n",
       "      <td>4.866667</td>\n",
       "      <td>1.100000</td>\n",
       "      <td>0.433333</td>\n",
       "      <td>2.200000</td>\n",
       "      <td>2.666667</td>\n",
       "      <td>7.266667</td>\n",
       "      <td>Killian Hayes</td>\n",
       "      <td>PG</td>\n",
       "      <td>DET</td>\n",
       "    </tr>\n",
       "    <tr>\n",
       "      <th>0</th>\n",
       "      <td>1.357143</td>\n",
       "      <td>0.814286</td>\n",
       "      <td>0.400000</td>\n",
       "      <td>0.900000</td>\n",
       "      <td>2.100000</td>\n",
       "      <td>8.057143</td>\n",
       "      <td>Dorian Finney-Smith</td>\n",
       "      <td>PF</td>\n",
       "      <td>DAL</td>\n",
       "    </tr>\n",
       "  </tbody>\n",
       "</table>\n",
       "</div>"
      ],
      "text/plain": [
       "        ast       stl       blk       tov        pf        pts  \\\n",
       "0  1.071429  0.414286  0.128571  0.500000  1.171429   5.057143   \n",
       "0  1.525000  0.625000  0.325000  1.375000  2.850000  13.925000   \n",
       "0  1.228571  0.528571  0.142857  0.685714  1.385714   5.871429   \n",
       "0  4.866667  1.100000  0.433333  2.200000  2.666667   7.266667   \n",
       "0  1.357143  0.814286  0.400000  0.900000  2.100000   8.057143   \n",
       "\n",
       "                  name position team  \n",
       "0      Rodney McGruder       SG  DET  \n",
       "0      De'Andre Hunter       SF  ATL  \n",
       "0       Troy Brown Jr.       SF  CHI  \n",
       "0        Killian Hayes       PG  DET  \n",
       "0  Dorian Finney-Smith       PF  DAL  "
      ]
     },
     "execution_count": 4,
     "metadata": {},
     "output_type": "execute_result"
    }
   ],
   "source": [
    "nba.head()"
   ]
  },
  {
   "cell_type": "code",
   "execution_count": 5,
   "metadata": {},
   "outputs": [],
   "source": [
    "# map positions to numbers\n",
    "nba['pos_num'] = nba.position.map({'C':0, 'SF':1, 'PF':1, 'SG':2, 'PG':2})"
   ]
  },
  {
   "cell_type": "code",
   "execution_count": null,
   "metadata": {},
   "outputs": [],
   "source": [
    "nba.columns"
   ]
  },
  {
   "cell_type": "code",
   "execution_count": 51,
   "metadata": {},
   "outputs": [],
   "source": [
    "X = nba[['ast', 'stl', 'blk', 'tov', 'pf', 'pts']]\n",
    "\n",
    "# create response vector (y)\n",
    "y = nba.pos_num\n"
   ]
  },
  {
   "cell_type": "code",
   "execution_count": 54,
   "metadata": {},
   "outputs": [],
   "source": [
    "from sklearn.preprocessing import StandardScaler\n",
    "#https://stackabuse.com/k-nearest-neighbors-algorithm-in-python-and-scikit-learn/\n",
    "\n",
    "scaler = StandardScaler()\n",
    "# # Fit only on X_train\n",
    "# scaler.fit(X_train)\n",
    "\n",
    "# # Scale both X_train and X_test\n",
    "# X_train = scaler.transform(X_train)\n",
    "# X_test = scaler.transform(X_test)\n",
    "\n",
    "scaler.fit(X)\n",
    "\n",
    "# # Scale both X_train and X_test\n",
    "X_scale = scaler.transform(X)\n",
    "# X_test = scaler.transform(X_test)"
   ]
  },
  {
   "cell_type": "code",
   "execution_count": 56,
   "metadata": {},
   "outputs": [
    {
     "data": {
      "text/plain": [
       "(132, 6)"
      ]
     },
     "execution_count": 56,
     "metadata": {},
     "output_type": "execute_result"
    }
   ],
   "source": [
    "X_scale.shape"
   ]
  },
  {
   "cell_type": "markdown",
   "metadata": {},
   "source": [
    "### Train on all the data\n",
    "\n",
    "One method for fitting and evaluating models would be to develop a model that is maximally accurate on our entire dataset and report the accuracy of that model as calculated over the entire dataset. However, this strategy will likely lead to an overly complex model that captures the training data well, but generalizes poorly to new data. For this reason, it is not recommended to train and evaluate models on the same dataset."
   ]
  },
  {
   "cell_type": "code",
   "execution_count": 57,
   "metadata": {},
   "outputs": [
    {
     "data": {
      "text/plain": [
       "array([2, 1, 2, 2, 1, 1, 0, 2, 2, 2, 0, 1, 1, 0, 2, 0, 2, 2, 1, 1, 1, 2,\n",
       "       0, 2, 2, 0, 1, 0, 1, 2, 0, 2, 2, 1, 2, 0, 2, 2, 2, 0, 2, 2, 1, 2,\n",
       "       2, 2, 2, 1, 1, 1, 1, 1, 1, 2, 2, 2, 0, 1, 2, 1, 1, 2, 0, 2, 1, 0,\n",
       "       1, 1, 2, 2, 1, 1, 1, 2, 2, 0, 2, 1, 0, 1, 1, 2, 1, 2, 1, 2, 2, 0,\n",
       "       1, 2, 0, 1, 1, 2, 1, 2, 0, 2, 2, 0, 2, 1, 1, 2, 1, 2, 2, 1, 2, 1,\n",
       "       2, 0, 0, 2, 1, 1, 2, 2, 1, 0, 2, 2, 1, 1, 2, 2, 1, 1, 0, 1, 1, 2])"
      ]
     },
     "execution_count": 57,
     "metadata": {},
     "output_type": "execute_result"
    }
   ],
   "source": [
    "# import the class\n",
    "from sklearn.neighbors import KNeighborsClassifier\n",
    "\n",
    "# instantiate the model\n",
    "knn = KNeighborsClassifier(n_neighbors=10)\n",
    "\n",
    "# train the model on the entire dataset\n",
    "knn.fit(X_scale, y)\n",
    "\n",
    "# predict the response values for the observations in X (\"test the model\")\n",
    "knn.predict(X_scale)"
   ]
  },
  {
   "cell_type": "code",
   "execution_count": 58,
   "metadata": {},
   "outputs": [],
   "source": [
    "# store the predicted response values\n",
    "y_pred_class = knn.predict(X_scale)"
   ]
  },
  {
   "cell_type": "code",
   "execution_count": 59,
   "metadata": {},
   "outputs": [
    {
     "name": "stdout",
     "output_type": "stream",
     "text": [
      "0.7348484848484849\n"
     ]
    }
   ],
   "source": [
    "print (accuracy_score(y, y_pred_class))"
   ]
  },
  {
   "cell_type": "markdown",
   "metadata": {},
   "source": [
    "This is known as training accuracy because we are evaluating the model on the same data we used to train the model.\n",
    "\n"
   ]
  },
  {
   "cell_type": "markdown",
   "metadata": {},
   "source": [
    "KNN(k=1)"
   ]
  },
  {
   "cell_type": "code",
   "execution_count": 39,
   "metadata": {},
   "outputs": [
    {
     "name": "stdout",
     "output_type": "stream",
     "text": [
      "1.0\n"
     ]
    }
   ],
   "source": [
    "knn = KNeighborsClassifier(n_neighbors=1)\n",
    "knn.fit(X_scale, y)\n",
    "y_pred_class = knn.predict(X_scale)\n",
    "print (accuracy_score(y, y_pred_class))\n",
    "#See also https://medium.com/analytics-vidhya/prediction-and-data-visualization-of-breast-cancer-using-k-nearest-neighbor-knn-classifier-df7adadc4872"
   ]
  },
  {
   "cell_type": "code",
   "execution_count": 66,
   "metadata": {},
   "outputs": [
    {
     "data": {
      "text/plain": [
       "Text(0.5, 1.0, 'KNN Decision Region Boundary, k=10')"
      ]
     },
     "execution_count": 66,
     "metadata": {},
     "output_type": "execute_result"
    },
    {
     "data": {
      "image/png": "[encoded data removed]",
      "text/plain": [
       "<Figure size 640x480 with 1 Axes>"
      ]
     },
     "metadata": {},
     "output_type": "display_data"
    }
   ],
   "source": [
    "# Plotting decision regions\n",
    "#plot_decision_regions(X[['ast', 'stl']].values, y.values, clf=knn, legend=2)\n",
    "# plot_decision_regions(X.values, y.values, clf=knn, legend=2)\n",
    "\n",
    "# # Adding axes annotations\n",
    "# plt.xlabel('sepal length [cm]')\n",
    "# plt.ylabel('petal length [cm]')\n",
    "# plt.title('SVM on Iris')\n",
    "# plt.show()\n",
    "\n",
    "\n",
    "#from mlxtend.plotting import plot_decision_regions\n",
    "neighbors = 10\n",
    "#clf = SVC(C=100,gamma=0.0001)\n",
    "pca = PCA(n_components = 2)\n",
    "X2 = pca.fit_transform(X_scale)\n",
    "\n",
    "# X2 = X_scale[:, 4:6]\n",
    "knn = KNeighborsClassifier(n_neighbors=neighbors)\n",
    "knn.fit(X2, y)\n",
    "plot_decision_regions(X2, y.values, clf=knn, legend=1)\n",
    "\n",
    "# plt.xlabel(X.columns[0], size=14)\n",
    "# plt.ylabel(X.columns[1], size=14)\n",
    "plt.xlabel('PC 1')\n",
    "plt.ylabel('PC 2')\n",
    "plt.title(f'KNN Decision Region Boundary, k={neighbors}', size=16)"
   ]
  },
  {
   "cell_type": "code",
   "execution_count": null,
   "metadata": {},
   "outputs": [],
   "source": [
    "X"
   ]
  },
  {
   "cell_type": "markdown",
   "metadata": {},
   "source": [
    "### Train/Test Splits\n",
    "One alternative approach is to partition your dataset into two subsets. You train your model on one subset (ie., the training set) and evaluate your model in the other (i.e., the test set). The model's performance on the test set is referred to as the **testing accuracy** because we are evaluating the model on an (in theory) independent dataset that was not used during model training. For this reason, testing accuracy is usually a better estimate of out-of-sample performance than training accuracy.\n",
    "\n",
    "We can use the built-in functionality in scikit learn to split our data into training and testing sets. For this section of the workshop, we will work with a new dataset. "
   ]
  },
  {
   "cell_type": "code",
   "execution_count": null,
   "metadata": {},
   "outputs": [],
   "source": [
    "#https://github.com/justmarkham/DAT8/blob/master/notebooks/20_regularization.ipynb\n",
    "url = 'http://archive.ics.uci.edu/ml/machine-learning-databases/communities/communities.data'\n",
    "crime = pd.read_csv(url, header=None, na_values=['?'])\n",
    "\n",
    "\n",
    "\n",
    "crime.head()\n"
   ]
  },
  {
   "cell_type": "code",
   "execution_count": null,
   "metadata": {},
   "outputs": [],
   "source": [
    "crime.drop([0, 1, 2, 3, 4], axis=1, inplace=True)\n",
    "crime.dropna(inplace=True)\n",
    "\n",
    "# define X and y\n",
    "X = crime.drop(127, axis=1)\n",
    "y = crime[127]\n",
    "X_train, X_test, y_train, y_test = train_test_split(X, y, random_state=1)"
   ]
  },
  {
   "cell_type": "code",
   "execution_count": null,
   "metadata": {},
   "outputs": [],
   "source": []
  },
  {
   "cell_type": "code",
   "execution_count": null,
   "metadata": {},
   "outputs": [],
   "source": [
    "from sklearn.datasets import make_classification\n",
    "from sklearn.model_selection import train_test_split\n",
    "from sklearn.svm import SVC\n",
    "from sklearn.metrics import confusion_matrix\n",
    "\n",
    "X, y = make_classification()\n",
    "X_train, X_test, y_train, y_test = train_test_split(X, y, test_size=0.2, stratify=y)\n",
    "clf = SVC().fit(X_train, y_train)\n",
    "confusion_matrix(y_test, clf.predict(X_test))"
   ]
  },
  {
   "cell_type": "markdown",
   "metadata": {},
   "source": [
    "|            | predicted true | predicted false |\n",
    "|------------|----------------|-----------------|\n",
    "|actual true |        10      |        0        |\n",
    "|actual false|         1      |        9        |"
   ]
  }
 ],
 "metadata": {
  "kernelspec": {
   "display_name": "Python 3 (ipykernel)",
   "language": "python",
   "name": "python3"
  },
  "language_info": {
   "codemirror_mode": {
    "name": "ipython",
    "version": 3
   },
   "file_extension": ".py",
   "mimetype": "text/x-python",
   "name": "python",
   "nbconvert_exporter": "python",
   "pygments_lexer": "ipython3",
   "version": "3.8.5"
  }
 },
 "nbformat": 4,
 "nbformat_minor": 2
}
